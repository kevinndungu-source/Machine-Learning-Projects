{
 "cells": [
  {
   "cell_type": "code",
   "execution_count": null,
   "id": "initial_id",
   "metadata": {
    "collapsed": true
   },
   "outputs": [],
   "source": [
    "4# Class to colorize, bold, or underline outpu\n",
    "class color:\n",
    "    PURPLE = '\\033[95m'\n",
    "    CYAN = '\\033[96m'\n",
    "    DARKCYAN = '\\033[36m'\n",
    "    BLUE = '\\033[94m'\n",
    "    GREEN = '\\033[92m'\n",
    "    YELLOW = '\\033[93m'\n",
    "    RED = '\\033[91m'\n",
    "    BOLD = '\\033[91m'\n",
    "    UNDERLINE = '\\033[4m'\n",
    "    END = '\\033[0m'\n",
    "    \n",
    "#\n",
    "\n",
    "import pandas as pd\n",
    "import numpy as np\n",
    "# define header fro our data,, the UCI (Census Income) dataset does not have a header.\n",
    "headers = [\"age\", \"workclass\", \"fnlwgt\", \"education\", \"education-num\", \"marital-status\", \"occupation\", \"relationship\", \"race\", \"sex\", \"capital-gain\", \"capital-loss\", \"hours-per-week\", \"native-country\", \"income\"]\n",
    "\n",
    "# load the data from github repo and convert the values with '?' to NaN\n",
    "url = \"https://raw.githubusercontent.com/vbloise3/whizLabsML/master/CensusIncome/CensusIncomeDataset.csv\"\n",
    "df = pd.read_csv(url, error_bad_lines=False, header=None, names=headers, na_values=\"null\")\n",
    "# head of the df\n",
    "df.head(10)\n"
   ]
  },
  {
   "cell_type": "code",
   "execution_count": null,
   "id": "37110df56c1e69dc",
   "metadata": {
    "collapsed": false
   },
   "outputs": [],
   "source": [
    "# Separate the features.\n",
    "feature_df = df.drop('income', axis=1)\n",
    "# Separate the target\n",
    "target_df = df.drop(df.columns[[0, 1, 2, 3, 4, 5, 6, 7, 8, 9, 10, 11, 12, 13]], axis=1)\n",
    "feature_df"
   ]
  },
  {
   "cell_type": "code",
   "execution_count": null,
   "id": "45b7abbc21ce75e9",
   "metadata": {
    "collapsed": false
   },
   "outputs": [],
   "source": [
    "# What data types are in the dataset\n",
    "feature_df.dtypes"
   ]
  },
  {
   "cell_type": "code",
   "execution_count": null,
   "id": "a8aa5783b3d48265",
   "metadata": {
    "collapsed": false
   },
   "outputs": [],
   "source": [
    "# Create a dataframe of only the categorical features.\n",
    "categorical_featuresDF = feature_df.select_dtypes(include=['object']).copy()\n",
    "categorical_featuresDF"
   ]
  },
  {
   "cell_type": "code",
   "execution_count": null,
   "id": "9135f7b2ff2082f7",
   "metadata": {
    "collapsed": false
   },
   "outputs": [],
   "source": [
    "# Find any Null value metrics in the categorical features.\n",
    "categorical_featuresDF_NaN = categorical_featuresDF[categorical_featuresDF.isnull().any(axis=1)]\n",
    "categorical_featuresDF_NaN"
   ]
  },
  {
   "cell_type": "code",
   "execution_count": null,
   "id": "651a65b799fb8fd6",
   "metadata": {
    "collapsed": false
   },
   "outputs": [],
   "source": [
    "# Which features have a NaN value?\n",
    "categorical_featuresDF.columns[categorical_featuresDF.isna().any()].tolist()"
   ]
  },
  {
   "cell_type": "code",
   "execution_count": null,
   "id": "9eb6bf0528872f00",
   "metadata": {
    "collapsed": false
   },
   "outputs": [],
   "source": [
    "# Impute the NaN values using scikit-learn SimpleImpute Class\n",
    "from sklearn.impute import SimpleImputer\n",
    "imputer = SimpleImputer(missing_values=np.nan, strategy='most_frequent')\n",
    "# Impute workclass values.\n",
    "imputer = imputer.fit(feature_df[['workclass']])\n",
    "feature_df['workclass'] = imputer.transform(feature_df[['workclass']]).ravel()\n",
    "# Impute occupation values.\n",
    "imputer = imputer.fit(feature_df[['occupation']])\n",
    "feature_df['occupation'] = imputer.transform(feature_df[['occupation']]).ravel()\n",
    "# Impute native-country values.\n",
    "imputer = imputer.fit(feature_df[['native-country']])\n",
    "feature_df['native-country'] = imputer.transform(feature_df[['native-country']]).ravel()\n",
    "\n",
    "# Recreate the dataframe of only the categorical features.\n",
    "categorical_featuresDF = feature_df.select_dtypes(include=['object']).copy()\n",
    "\n",
    "# Recheck to find any null value entries in the categorical features.\n",
    "categorical_featuresDF_NaN = categorical_featuresDF[categorical_featuresDF.isnull().any(axis=1)]\n",
    "# Which features have a NaN value?\n",
    "categorical_featuresDF.columns[categorical_featuresDF.isna().any()].tolist()\n"
   ]
  },
  {
   "cell_type": "code",
   "execution_count": null,
   "id": "b35979918e133ddf",
   "metadata": {
    "collapsed": false
   },
   "outputs": [],
   "source": [
    "# Use binary encoding for the sex feature.\n",
    "from sklearn.preprocessing import LabelBinarizer\n",
    "# How many different sex feature value types are there\n",
    "print(color.BOLD + color.PURPLE + \"\\nHow many different sex feature types?\" + color.END)\n",
    "print(categorical_featuresDF[\"sex\"].value_counts())"
   ]
  },
  {
   "cell_type": "code",
   "execution_count": null,
   "id": "6d552295fc147f2f",
   "metadata": {
    "collapsed": false
   },
   "outputs": [],
   "source": [
    "label_style = LabelBinarizer()\n",
    "label_results = label_style.fit_transform(categorical_featuresDF[\"sex\"])\n",
    "print(color.BOLD + color.PURPLE + \"\\nLabelBinarizer of sex feature\" + color.END)\n",
    "categorical_featuresDF[\"sex_code\"] = pd.DataFrame({'sex': label_results[:, 0]})\n",
    "categorical_featuresDF[[\"sex\", \"sex_code\"]].head(15)"
   ]
  },
  {
   "cell_type": "code",
   "execution_count": null,
   "id": "7c5992d98d621914",
   "metadata": {
    "collapsed": false
   },
   "outputs": [],
   "source": [
    "# Perform label encoding on workclass feature\n",
    "from sklearn.preprocessing import LabelEncoder\n",
    "label_work_class = LabelEncoder()\n",
    "categorical_featuresDF[\"workclass_code\"] = label_work_class.fit_transform(categorical_featuresDF[\"workclass\"])\n",
    "categorical_featuresDF[[\"workclass\", \"workclass_code\"]].head(15)"
   ]
  },
  {
   "cell_type": "code",
   "execution_count": null,
   "id": "bed26673d8434ae5",
   "metadata": {
    "collapsed": false
   },
   "outputs": [],
   "source": [
    "# Use one-hot encoding on the workclass feature\n",
    "# How many different workclass feature value types\n",
    "print(color.BOLD + color.PURPLE + \"\\nHow many different workclass feature types?\" + color.END)\n",
    "print(categorical_featuresDF[\"workclass\"].value_counts())"
   ]
  },
  {
   "cell_type": "code",
   "execution_count": null,
   "id": "fc9c29f46b025f17",
   "metadata": {
    "collapsed": false
   },
   "outputs": [],
   "source": [
    "# One-hot encode the workclass feature\n",
    "pd.get_dummies(categorical_featuresDF, columns=[\"workclass\"]).head()"
   ]
  },
  {
   "cell_type": "code",
   "execution_count": null,
   "id": "7733276c5a9c747e",
   "metadata": {
    "collapsed": false
   },
   "outputs": [],
   "source": [
    "# Use one-hot encoding on the marital-status feature\n",
    "\n",
    "# How many different marital-status feature value types\n",
    "print(color.BOLD + color.PURPLE + \"\\nHow many different marital-status feature types?\" + color.END)\n",
    "print(categorical_featuresDF[\"marital-status\"].value_counts())\n",
    "\n",
    "# One-hot encode the marital-status feature\n",
    "pd.get_dummies(categorical_featuresDF, columns=[\"marital-status\"]).head()"
   ]
  },
  {
   "cell_type": "code",
   "execution_count": null,
   "id": "43b167cc71f9df33",
   "metadata": {
    "collapsed": false
   },
   "outputs": [],
   "source": [
    "# Use one-hot encoding on the native-country feature\n",
    "\n",
    "# How many different native-country feature value types\n",
    "print(color.BOLD + color.PURPLE + \"\\nHow many different native-country feature types?\" + color.END)\n",
    "print(categorical_featuresDF[\"native-country\"].value_counts())\n",
    "\n",
    "# One-hot encode the native-country feature.\n",
    "pd.get_dummies(categorical_featuresDF, columns=[\"native-country\"]).head()"
   ]
  },
  {
   "cell_type": "code",
   "execution_count": null,
   "id": "eba6d772aaaa10a7",
   "metadata": {
    "collapsed": false
   },
   "outputs": [],
   "source": []
  }
 ],
 "metadata": {
  "kernelspec": {
   "display_name": "Python 3",
   "language": "python",
   "name": "python3"
  },
  "language_info": {
   "codemirror_mode": {
    "name": "ipython",
    "version": 2
   },
   "file_extension": ".py",
   "mimetype": "text/x-python",
   "name": "python",
   "nbconvert_exporter": "python",
   "pygments_lexer": "ipython2",
   "version": "2.7.6"
  }
 },
 "nbformat": 4,
 "nbformat_minor": 5
}
