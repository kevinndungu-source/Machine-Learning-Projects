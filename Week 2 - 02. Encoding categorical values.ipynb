{
 "cells": [
  {
   "cell_type": "code",
   "execution_count": 2,
   "id": "initial_id",
   "metadata": {
    "collapsed": true,
    "ExecuteTime": {
     "end_time": "2024-03-29T11:14:38.967130500Z",
     "start_time": "2024-03-29T11:14:30.464967900Z"
    }
   },
   "outputs": [
    {
     "name": "stderr",
     "output_type": "stream",
     "text": [
      "C:\\Users\\ADMIN\\AppData\\Local\\Temp\\ipykernel_19732\\3604856885.py:23: FutureWarning: The error_bad_lines argument has been deprecated and will be removed in a future version. Use on_bad_lines in the future.\n",
      "\n",
      "\n",
      "  df = pd.read_csv(url, error_bad_lines=False, header=None, names=headers, na_values=\"null\")\n"
     ]
    },
    {
     "data": {
      "text/plain": "   age          workclass  fnlwgt   education  education-num  \\\n0   39          State-gov   77516   Bachelors             13   \n1   50   Self-emp-not-inc   83311   Bachelors             13   \n2   38            Private  215646     HS-grad              9   \n3   53            Private  234721        11th              7   \n4   28            Private  338409   Bachelors             13   \n5   37            Private  284582     Masters             14   \n6   49            Private  160187         9th              5   \n7   52   Self-emp-not-inc  209642     HS-grad              9   \n8   31            Private   45781     Masters             14   \n9   42            Private  159449   Bachelors             13   \n\n           marital-status          occupation    relationship    race  \\\n0           Never-married        Adm-clerical   Not-in-family   White   \n1      Married-civ-spouse     Exec-managerial         Husband   White   \n2                Divorced   Handlers-cleaners   Not-in-family   White   \n3      Married-civ-spouse   Handlers-cleaners         Husband   Black   \n4      Married-civ-spouse      Prof-specialty            Wife   Black   \n5      Married-civ-spouse     Exec-managerial            Wife   White   \n6   Married-spouse-absent       Other-service   Not-in-family   Black   \n7      Married-civ-spouse     Exec-managerial         Husband   White   \n8           Never-married      Prof-specialty   Not-in-family   White   \n9      Married-civ-spouse     Exec-managerial         Husband   White   \n\n       sex  capital-gain  capital-loss  hours-per-week  native-country income  \n0     Male          2174             0              40   United-States  <=50K  \n1     Male             0             0              13   United-States  <=50K  \n2     Male             0             0              40   United-States  <=50K  \n3     Male             0             0              40   United-States  <=50K  \n4   Female             0             0              40            Cuba  <=50K  \n5   Female             0             0              40   United-States  <=50K  \n6   Female             0             0              16         Jamaica  <=50K  \n7     Male             0             0              45   United-States   >50K  \n8   Female         14084             0              50   United-States   >50K  \n9     Male          5178             0              40   United-States   >50K  ",
      "text/html": "<div>\n<style scoped>\n    .dataframe tbody tr th:only-of-type {\n        vertical-align: middle;\n    }\n\n    .dataframe tbody tr th {\n        vertical-align: top;\n    }\n\n    .dataframe thead th {\n        text-align: right;\n    }\n</style>\n<table border=\"1\" class=\"dataframe\">\n  <thead>\n    <tr style=\"text-align: right;\">\n      <th></th>\n      <th>age</th>\n      <th>workclass</th>\n      <th>fnlwgt</th>\n      <th>education</th>\n      <th>education-num</th>\n      <th>marital-status</th>\n      <th>occupation</th>\n      <th>relationship</th>\n      <th>race</th>\n      <th>sex</th>\n      <th>capital-gain</th>\n      <th>capital-loss</th>\n      <th>hours-per-week</th>\n      <th>native-country</th>\n      <th>income</th>\n    </tr>\n  </thead>\n  <tbody>\n    <tr>\n      <th>0</th>\n      <td>39</td>\n      <td>State-gov</td>\n      <td>77516</td>\n      <td>Bachelors</td>\n      <td>13</td>\n      <td>Never-married</td>\n      <td>Adm-clerical</td>\n      <td>Not-in-family</td>\n      <td>White</td>\n      <td>Male</td>\n      <td>2174</td>\n      <td>0</td>\n      <td>40</td>\n      <td>United-States</td>\n      <td>&lt;=50K</td>\n    </tr>\n    <tr>\n      <th>1</th>\n      <td>50</td>\n      <td>Self-emp-not-inc</td>\n      <td>83311</td>\n      <td>Bachelors</td>\n      <td>13</td>\n      <td>Married-civ-spouse</td>\n      <td>Exec-managerial</td>\n      <td>Husband</td>\n      <td>White</td>\n      <td>Male</td>\n      <td>0</td>\n      <td>0</td>\n      <td>13</td>\n      <td>United-States</td>\n      <td>&lt;=50K</td>\n    </tr>\n    <tr>\n      <th>2</th>\n      <td>38</td>\n      <td>Private</td>\n      <td>215646</td>\n      <td>HS-grad</td>\n      <td>9</td>\n      <td>Divorced</td>\n      <td>Handlers-cleaners</td>\n      <td>Not-in-family</td>\n      <td>White</td>\n      <td>Male</td>\n      <td>0</td>\n      <td>0</td>\n      <td>40</td>\n      <td>United-States</td>\n      <td>&lt;=50K</td>\n    </tr>\n    <tr>\n      <th>3</th>\n      <td>53</td>\n      <td>Private</td>\n      <td>234721</td>\n      <td>11th</td>\n      <td>7</td>\n      <td>Married-civ-spouse</td>\n      <td>Handlers-cleaners</td>\n      <td>Husband</td>\n      <td>Black</td>\n      <td>Male</td>\n      <td>0</td>\n      <td>0</td>\n      <td>40</td>\n      <td>United-States</td>\n      <td>&lt;=50K</td>\n    </tr>\n    <tr>\n      <th>4</th>\n      <td>28</td>\n      <td>Private</td>\n      <td>338409</td>\n      <td>Bachelors</td>\n      <td>13</td>\n      <td>Married-civ-spouse</td>\n      <td>Prof-specialty</td>\n      <td>Wife</td>\n      <td>Black</td>\n      <td>Female</td>\n      <td>0</td>\n      <td>0</td>\n      <td>40</td>\n      <td>Cuba</td>\n      <td>&lt;=50K</td>\n    </tr>\n    <tr>\n      <th>5</th>\n      <td>37</td>\n      <td>Private</td>\n      <td>284582</td>\n      <td>Masters</td>\n      <td>14</td>\n      <td>Married-civ-spouse</td>\n      <td>Exec-managerial</td>\n      <td>Wife</td>\n      <td>White</td>\n      <td>Female</td>\n      <td>0</td>\n      <td>0</td>\n      <td>40</td>\n      <td>United-States</td>\n      <td>&lt;=50K</td>\n    </tr>\n    <tr>\n      <th>6</th>\n      <td>49</td>\n      <td>Private</td>\n      <td>160187</td>\n      <td>9th</td>\n      <td>5</td>\n      <td>Married-spouse-absent</td>\n      <td>Other-service</td>\n      <td>Not-in-family</td>\n      <td>Black</td>\n      <td>Female</td>\n      <td>0</td>\n      <td>0</td>\n      <td>16</td>\n      <td>Jamaica</td>\n      <td>&lt;=50K</td>\n    </tr>\n    <tr>\n      <th>7</th>\n      <td>52</td>\n      <td>Self-emp-not-inc</td>\n      <td>209642</td>\n      <td>HS-grad</td>\n      <td>9</td>\n      <td>Married-civ-spouse</td>\n      <td>Exec-managerial</td>\n      <td>Husband</td>\n      <td>White</td>\n      <td>Male</td>\n      <td>0</td>\n      <td>0</td>\n      <td>45</td>\n      <td>United-States</td>\n      <td>&gt;50K</td>\n    </tr>\n    <tr>\n      <th>8</th>\n      <td>31</td>\n      <td>Private</td>\n      <td>45781</td>\n      <td>Masters</td>\n      <td>14</td>\n      <td>Never-married</td>\n      <td>Prof-specialty</td>\n      <td>Not-in-family</td>\n      <td>White</td>\n      <td>Female</td>\n      <td>14084</td>\n      <td>0</td>\n      <td>50</td>\n      <td>United-States</td>\n      <td>&gt;50K</td>\n    </tr>\n    <tr>\n      <th>9</th>\n      <td>42</td>\n      <td>Private</td>\n      <td>159449</td>\n      <td>Bachelors</td>\n      <td>13</td>\n      <td>Married-civ-spouse</td>\n      <td>Exec-managerial</td>\n      <td>Husband</td>\n      <td>White</td>\n      <td>Male</td>\n      <td>5178</td>\n      <td>0</td>\n      <td>40</td>\n      <td>United-States</td>\n      <td>&gt;50K</td>\n    </tr>\n  </tbody>\n</table>\n</div>"
     },
     "execution_count": 2,
     "metadata": {},
     "output_type": "execute_result"
    }
   ],
   "source": [
    "4# Class to colorize, bold, or underline outpu\n",
    "class color:\n",
    "    PURPLE = '\\033[95m'\n",
    "    CYAN = '\\033[96m'\n",
    "    DARKCYAN = '\\033[36m'\n",
    "    BLUE = '\\033[94m'\n",
    "    GREEN = '\\033[92m'\n",
    "    YELLOW = '\\033[93m'\n",
    "    RED = '\\033[91m'\n",
    "    BOLD = '\\033[91m'\n",
    "    UNDERLINE = '\\033[4m'\n",
    "    END = '\\033[0m'\n",
    "    \n",
    "#\n",
    "\n",
    "import pandas as pd\n",
    "import numpy as np\n",
    "# define header fro our data,, the UCI (Census Income) dataset does not have a header.\n",
    "headers = [\"age\", \"workclass\", \"fnlwgt\", \"education\", \"education-num\", \"marital-status\", \"occupation\", \"relationship\", \"race\", \"sex\", \"capital-gain\", \"capital-loss\", \"hours-per-week\", \"native-country\", \"income\"]\n",
    "\n",
    "# load the data from github repo and convert the values with '?' to NaN\n",
    "url = \"https://raw.githubusercontent.com/vbloise3/whizLabsML/master/CensusIncome/CensusIncomeDataset.csv\"\n",
    "df = pd.read_csv(url, error_bad_lines=False, header=None, names=headers, na_values=\"null\")\n",
    "# head of the df\n",
    "df.head(10)\n"
   ]
  },
  {
   "cell_type": "code",
   "outputs": [
    {
     "data": {
      "text/plain": "       age          workclass  fnlwgt    education  education-num  \\\n0       39          State-gov   77516    Bachelors             13   \n1       50   Self-emp-not-inc   83311    Bachelors             13   \n2       38            Private  215646      HS-grad              9   \n3       53            Private  234721         11th              7   \n4       28            Private  338409    Bachelors             13   \n...    ...                ...     ...          ...            ...   \n32556   27            Private  257302   Assoc-acdm             12   \n32557   40            Private  154374      HS-grad              9   \n32558   58            Private  151910      HS-grad              9   \n32559   22            Private  201490      HS-grad              9   \n32560   52       Self-emp-inc  287927      HS-grad              9   \n\n            marital-status          occupation    relationship    race  \\\n0            Never-married        Adm-clerical   Not-in-family   White   \n1       Married-civ-spouse     Exec-managerial         Husband   White   \n2                 Divorced   Handlers-cleaners   Not-in-family   White   \n3       Married-civ-spouse   Handlers-cleaners         Husband   Black   \n4       Married-civ-spouse      Prof-specialty            Wife   Black   \n...                    ...                 ...             ...     ...   \n32556   Married-civ-spouse        Tech-support            Wife   White   \n32557   Married-civ-spouse   Machine-op-inspct         Husband   White   \n32558              Widowed        Adm-clerical       Unmarried   White   \n32559        Never-married        Adm-clerical       Own-child   White   \n32560   Married-civ-spouse     Exec-managerial            Wife   White   \n\n           sex  capital-gain  capital-loss  hours-per-week  native-country  \n0         Male          2174             0              40   United-States  \n1         Male             0             0              13   United-States  \n2         Male             0             0              40   United-States  \n3         Male             0             0              40   United-States  \n4       Female             0             0              40            Cuba  \n...        ...           ...           ...             ...             ...  \n32556   Female             0             0              38   United-States  \n32557     Male             0             0              40   United-States  \n32558   Female             0             0              40   United-States  \n32559     Male             0             0              20   United-States  \n32560   Female         15024             0              40   United-States  \n\n[32561 rows x 14 columns]",
      "text/html": "<div>\n<style scoped>\n    .dataframe tbody tr th:only-of-type {\n        vertical-align: middle;\n    }\n\n    .dataframe tbody tr th {\n        vertical-align: top;\n    }\n\n    .dataframe thead th {\n        text-align: right;\n    }\n</style>\n<table border=\"1\" class=\"dataframe\">\n  <thead>\n    <tr style=\"text-align: right;\">\n      <th></th>\n      <th>age</th>\n      <th>workclass</th>\n      <th>fnlwgt</th>\n      <th>education</th>\n      <th>education-num</th>\n      <th>marital-status</th>\n      <th>occupation</th>\n      <th>relationship</th>\n      <th>race</th>\n      <th>sex</th>\n      <th>capital-gain</th>\n      <th>capital-loss</th>\n      <th>hours-per-week</th>\n      <th>native-country</th>\n    </tr>\n  </thead>\n  <tbody>\n    <tr>\n      <th>0</th>\n      <td>39</td>\n      <td>State-gov</td>\n      <td>77516</td>\n      <td>Bachelors</td>\n      <td>13</td>\n      <td>Never-married</td>\n      <td>Adm-clerical</td>\n      <td>Not-in-family</td>\n      <td>White</td>\n      <td>Male</td>\n      <td>2174</td>\n      <td>0</td>\n      <td>40</td>\n      <td>United-States</td>\n    </tr>\n    <tr>\n      <th>1</th>\n      <td>50</td>\n      <td>Self-emp-not-inc</td>\n      <td>83311</td>\n      <td>Bachelors</td>\n      <td>13</td>\n      <td>Married-civ-spouse</td>\n      <td>Exec-managerial</td>\n      <td>Husband</td>\n      <td>White</td>\n      <td>Male</td>\n      <td>0</td>\n      <td>0</td>\n      <td>13</td>\n      <td>United-States</td>\n    </tr>\n    <tr>\n      <th>2</th>\n      <td>38</td>\n      <td>Private</td>\n      <td>215646</td>\n      <td>HS-grad</td>\n      <td>9</td>\n      <td>Divorced</td>\n      <td>Handlers-cleaners</td>\n      <td>Not-in-family</td>\n      <td>White</td>\n      <td>Male</td>\n      <td>0</td>\n      <td>0</td>\n      <td>40</td>\n      <td>United-States</td>\n    </tr>\n    <tr>\n      <th>3</th>\n      <td>53</td>\n      <td>Private</td>\n      <td>234721</td>\n      <td>11th</td>\n      <td>7</td>\n      <td>Married-civ-spouse</td>\n      <td>Handlers-cleaners</td>\n      <td>Husband</td>\n      <td>Black</td>\n      <td>Male</td>\n      <td>0</td>\n      <td>0</td>\n      <td>40</td>\n      <td>United-States</td>\n    </tr>\n    <tr>\n      <th>4</th>\n      <td>28</td>\n      <td>Private</td>\n      <td>338409</td>\n      <td>Bachelors</td>\n      <td>13</td>\n      <td>Married-civ-spouse</td>\n      <td>Prof-specialty</td>\n      <td>Wife</td>\n      <td>Black</td>\n      <td>Female</td>\n      <td>0</td>\n      <td>0</td>\n      <td>40</td>\n      <td>Cuba</td>\n    </tr>\n    <tr>\n      <th>...</th>\n      <td>...</td>\n      <td>...</td>\n      <td>...</td>\n      <td>...</td>\n      <td>...</td>\n      <td>...</td>\n      <td>...</td>\n      <td>...</td>\n      <td>...</td>\n      <td>...</td>\n      <td>...</td>\n      <td>...</td>\n      <td>...</td>\n      <td>...</td>\n    </tr>\n    <tr>\n      <th>32556</th>\n      <td>27</td>\n      <td>Private</td>\n      <td>257302</td>\n      <td>Assoc-acdm</td>\n      <td>12</td>\n      <td>Married-civ-spouse</td>\n      <td>Tech-support</td>\n      <td>Wife</td>\n      <td>White</td>\n      <td>Female</td>\n      <td>0</td>\n      <td>0</td>\n      <td>38</td>\n      <td>United-States</td>\n    </tr>\n    <tr>\n      <th>32557</th>\n      <td>40</td>\n      <td>Private</td>\n      <td>154374</td>\n      <td>HS-grad</td>\n      <td>9</td>\n      <td>Married-civ-spouse</td>\n      <td>Machine-op-inspct</td>\n      <td>Husband</td>\n      <td>White</td>\n      <td>Male</td>\n      <td>0</td>\n      <td>0</td>\n      <td>40</td>\n      <td>United-States</td>\n    </tr>\n    <tr>\n      <th>32558</th>\n      <td>58</td>\n      <td>Private</td>\n      <td>151910</td>\n      <td>HS-grad</td>\n      <td>9</td>\n      <td>Widowed</td>\n      <td>Adm-clerical</td>\n      <td>Unmarried</td>\n      <td>White</td>\n      <td>Female</td>\n      <td>0</td>\n      <td>0</td>\n      <td>40</td>\n      <td>United-States</td>\n    </tr>\n    <tr>\n      <th>32559</th>\n      <td>22</td>\n      <td>Private</td>\n      <td>201490</td>\n      <td>HS-grad</td>\n      <td>9</td>\n      <td>Never-married</td>\n      <td>Adm-clerical</td>\n      <td>Own-child</td>\n      <td>White</td>\n      <td>Male</td>\n      <td>0</td>\n      <td>0</td>\n      <td>20</td>\n      <td>United-States</td>\n    </tr>\n    <tr>\n      <th>32560</th>\n      <td>52</td>\n      <td>Self-emp-inc</td>\n      <td>287927</td>\n      <td>HS-grad</td>\n      <td>9</td>\n      <td>Married-civ-spouse</td>\n      <td>Exec-managerial</td>\n      <td>Wife</td>\n      <td>White</td>\n      <td>Female</td>\n      <td>15024</td>\n      <td>0</td>\n      <td>40</td>\n      <td>United-States</td>\n    </tr>\n  </tbody>\n</table>\n<p>32561 rows × 14 columns</p>\n</div>"
     },
     "execution_count": 3,
     "metadata": {},
     "output_type": "execute_result"
    }
   ],
   "source": [
    "# Separate the features.\n",
    "feature_df = df.drop('income', axis=1)\n",
    "# Separate the target\n",
    "target_df = df.drop(df.columns[[0, 1, 2, 3, 4, 5, 6, 7, 8, 9, 10, 11, 12, 13]], axis=1)\n",
    "feature_df"
   ],
   "metadata": {
    "collapsed": false,
    "ExecuteTime": {
     "end_time": "2024-03-29T11:21:00.305756700Z",
     "start_time": "2024-03-29T11:21:00.266757200Z"
    }
   },
   "id": "37110df56c1e69dc",
   "execution_count": 3
  },
  {
   "cell_type": "code",
   "outputs": [
    {
     "data": {
      "text/plain": "age                int64\nworkclass         object\nfnlwgt             int64\neducation         object\neducation-num      int64\nmarital-status    object\noccupation        object\nrelationship      object\nrace              object\nsex               object\ncapital-gain       int64\ncapital-loss       int64\nhours-per-week     int64\nnative-country    object\ndtype: object"
     },
     "execution_count": 4,
     "metadata": {},
     "output_type": "execute_result"
    }
   ],
   "source": [
    "# What data types are in the dataset\n",
    "feature_df.dtypes"
   ],
   "metadata": {
    "collapsed": false,
    "ExecuteTime": {
     "end_time": "2024-03-29T11:21:06.982021800Z",
     "start_time": "2024-03-29T11:21:06.923474Z"
    }
   },
   "id": "45b7abbc21ce75e9",
   "execution_count": 4
  },
  {
   "cell_type": "code",
   "outputs": [
    {
     "data": {
      "text/plain": "               workclass    education       marital-status  \\\n0              State-gov    Bachelors        Never-married   \n1       Self-emp-not-inc    Bachelors   Married-civ-spouse   \n2                Private      HS-grad             Divorced   \n3                Private         11th   Married-civ-spouse   \n4                Private    Bachelors   Married-civ-spouse   \n...                  ...          ...                  ...   \n32556            Private   Assoc-acdm   Married-civ-spouse   \n32557            Private      HS-grad   Married-civ-spouse   \n32558            Private      HS-grad              Widowed   \n32559            Private      HS-grad        Never-married   \n32560       Self-emp-inc      HS-grad   Married-civ-spouse   \n\n               occupation    relationship    race      sex  native-country  \n0            Adm-clerical   Not-in-family   White     Male   United-States  \n1         Exec-managerial         Husband   White     Male   United-States  \n2       Handlers-cleaners   Not-in-family   White     Male   United-States  \n3       Handlers-cleaners         Husband   Black     Male   United-States  \n4          Prof-specialty            Wife   Black   Female            Cuba  \n...                   ...             ...     ...      ...             ...  \n32556        Tech-support            Wife   White   Female   United-States  \n32557   Machine-op-inspct         Husband   White     Male   United-States  \n32558        Adm-clerical       Unmarried   White   Female   United-States  \n32559        Adm-clerical       Own-child   White     Male   United-States  \n32560     Exec-managerial            Wife   White   Female   United-States  \n\n[32561 rows x 8 columns]",
      "text/html": "<div>\n<style scoped>\n    .dataframe tbody tr th:only-of-type {\n        vertical-align: middle;\n    }\n\n    .dataframe tbody tr th {\n        vertical-align: top;\n    }\n\n    .dataframe thead th {\n        text-align: right;\n    }\n</style>\n<table border=\"1\" class=\"dataframe\">\n  <thead>\n    <tr style=\"text-align: right;\">\n      <th></th>\n      <th>workclass</th>\n      <th>education</th>\n      <th>marital-status</th>\n      <th>occupation</th>\n      <th>relationship</th>\n      <th>race</th>\n      <th>sex</th>\n      <th>native-country</th>\n    </tr>\n  </thead>\n  <tbody>\n    <tr>\n      <th>0</th>\n      <td>State-gov</td>\n      <td>Bachelors</td>\n      <td>Never-married</td>\n      <td>Adm-clerical</td>\n      <td>Not-in-family</td>\n      <td>White</td>\n      <td>Male</td>\n      <td>United-States</td>\n    </tr>\n    <tr>\n      <th>1</th>\n      <td>Self-emp-not-inc</td>\n      <td>Bachelors</td>\n      <td>Married-civ-spouse</td>\n      <td>Exec-managerial</td>\n      <td>Husband</td>\n      <td>White</td>\n      <td>Male</td>\n      <td>United-States</td>\n    </tr>\n    <tr>\n      <th>2</th>\n      <td>Private</td>\n      <td>HS-grad</td>\n      <td>Divorced</td>\n      <td>Handlers-cleaners</td>\n      <td>Not-in-family</td>\n      <td>White</td>\n      <td>Male</td>\n      <td>United-States</td>\n    </tr>\n    <tr>\n      <th>3</th>\n      <td>Private</td>\n      <td>11th</td>\n      <td>Married-civ-spouse</td>\n      <td>Handlers-cleaners</td>\n      <td>Husband</td>\n      <td>Black</td>\n      <td>Male</td>\n      <td>United-States</td>\n    </tr>\n    <tr>\n      <th>4</th>\n      <td>Private</td>\n      <td>Bachelors</td>\n      <td>Married-civ-spouse</td>\n      <td>Prof-specialty</td>\n      <td>Wife</td>\n      <td>Black</td>\n      <td>Female</td>\n      <td>Cuba</td>\n    </tr>\n    <tr>\n      <th>...</th>\n      <td>...</td>\n      <td>...</td>\n      <td>...</td>\n      <td>...</td>\n      <td>...</td>\n      <td>...</td>\n      <td>...</td>\n      <td>...</td>\n    </tr>\n    <tr>\n      <th>32556</th>\n      <td>Private</td>\n      <td>Assoc-acdm</td>\n      <td>Married-civ-spouse</td>\n      <td>Tech-support</td>\n      <td>Wife</td>\n      <td>White</td>\n      <td>Female</td>\n      <td>United-States</td>\n    </tr>\n    <tr>\n      <th>32557</th>\n      <td>Private</td>\n      <td>HS-grad</td>\n      <td>Married-civ-spouse</td>\n      <td>Machine-op-inspct</td>\n      <td>Husband</td>\n      <td>White</td>\n      <td>Male</td>\n      <td>United-States</td>\n    </tr>\n    <tr>\n      <th>32558</th>\n      <td>Private</td>\n      <td>HS-grad</td>\n      <td>Widowed</td>\n      <td>Adm-clerical</td>\n      <td>Unmarried</td>\n      <td>White</td>\n      <td>Female</td>\n      <td>United-States</td>\n    </tr>\n    <tr>\n      <th>32559</th>\n      <td>Private</td>\n      <td>HS-grad</td>\n      <td>Never-married</td>\n      <td>Adm-clerical</td>\n      <td>Own-child</td>\n      <td>White</td>\n      <td>Male</td>\n      <td>United-States</td>\n    </tr>\n    <tr>\n      <th>32560</th>\n      <td>Self-emp-inc</td>\n      <td>HS-grad</td>\n      <td>Married-civ-spouse</td>\n      <td>Exec-managerial</td>\n      <td>Wife</td>\n      <td>White</td>\n      <td>Female</td>\n      <td>United-States</td>\n    </tr>\n  </tbody>\n</table>\n<p>32561 rows × 8 columns</p>\n</div>"
     },
     "execution_count": 5,
     "metadata": {},
     "output_type": "execute_result"
    }
   ],
   "source": [
    "# Create a dataframe of only the categorical features.\n",
    "categorical_featuresDF = feature_df.select_dtypes(include=['object']).copy()\n",
    "categorical_featuresDF"
   ],
   "metadata": {
    "collapsed": false,
    "ExecuteTime": {
     "end_time": "2024-03-29T11:21:11.520702100Z",
     "start_time": "2024-03-29T11:21:11.480698700Z"
    }
   },
   "id": "a8aa5783b3d48265",
   "execution_count": 5
  },
  {
   "cell_type": "code",
   "outputs": [
    {
     "data": {
      "text/plain": "      workclass      education          marital-status      occupation  \\\n14      Private      Assoc-voc      Married-civ-spouse    Craft-repair   \n27          NaN   Some-college      Married-civ-spouse             NaN   \n38      Private   Some-college      Married-civ-spouse           Sales   \n51      Private        HS-grad           Never-married   Other-service   \n61          NaN        7th-8th   Married-spouse-absent             NaN   \n...         ...            ...                     ...             ...   \n32530       NaN      Bachelors      Married-civ-spouse             NaN   \n32531       NaN      Bachelors           Never-married             NaN   \n32539       NaN      Doctorate      Married-civ-spouse             NaN   \n32541       NaN        HS-grad               Separated             NaN   \n32542       NaN        HS-grad      Married-civ-spouse             NaN   \n\n         relationship                 race      sex  native-country  \n14            Husband   Asian-Pac-Islander     Male             NaN  \n27            Husband   Asian-Pac-Islander     Male           South  \n38            Husband                White     Male             NaN  \n51          Own-child                White   Female             NaN  \n61      Not-in-family                White     Male             NaN  \n...               ...                  ...      ...             ...  \n32530            Wife                White   Female   United-States  \n32531   Not-in-family   Asian-Pac-Islander   Female   United-States  \n32539         Husband                White     Male   United-States  \n32541   Not-in-family                Black   Female   United-States  \n32542         Husband                White     Male   United-States  \n\n[2399 rows x 8 columns]",
      "text/html": "<div>\n<style scoped>\n    .dataframe tbody tr th:only-of-type {\n        vertical-align: middle;\n    }\n\n    .dataframe tbody tr th {\n        vertical-align: top;\n    }\n\n    .dataframe thead th {\n        text-align: right;\n    }\n</style>\n<table border=\"1\" class=\"dataframe\">\n  <thead>\n    <tr style=\"text-align: right;\">\n      <th></th>\n      <th>workclass</th>\n      <th>education</th>\n      <th>marital-status</th>\n      <th>occupation</th>\n      <th>relationship</th>\n      <th>race</th>\n      <th>sex</th>\n      <th>native-country</th>\n    </tr>\n  </thead>\n  <tbody>\n    <tr>\n      <th>14</th>\n      <td>Private</td>\n      <td>Assoc-voc</td>\n      <td>Married-civ-spouse</td>\n      <td>Craft-repair</td>\n      <td>Husband</td>\n      <td>Asian-Pac-Islander</td>\n      <td>Male</td>\n      <td>NaN</td>\n    </tr>\n    <tr>\n      <th>27</th>\n      <td>NaN</td>\n      <td>Some-college</td>\n      <td>Married-civ-spouse</td>\n      <td>NaN</td>\n      <td>Husband</td>\n      <td>Asian-Pac-Islander</td>\n      <td>Male</td>\n      <td>South</td>\n    </tr>\n    <tr>\n      <th>38</th>\n      <td>Private</td>\n      <td>Some-college</td>\n      <td>Married-civ-spouse</td>\n      <td>Sales</td>\n      <td>Husband</td>\n      <td>White</td>\n      <td>Male</td>\n      <td>NaN</td>\n    </tr>\n    <tr>\n      <th>51</th>\n      <td>Private</td>\n      <td>HS-grad</td>\n      <td>Never-married</td>\n      <td>Other-service</td>\n      <td>Own-child</td>\n      <td>White</td>\n      <td>Female</td>\n      <td>NaN</td>\n    </tr>\n    <tr>\n      <th>61</th>\n      <td>NaN</td>\n      <td>7th-8th</td>\n      <td>Married-spouse-absent</td>\n      <td>NaN</td>\n      <td>Not-in-family</td>\n      <td>White</td>\n      <td>Male</td>\n      <td>NaN</td>\n    </tr>\n    <tr>\n      <th>...</th>\n      <td>...</td>\n      <td>...</td>\n      <td>...</td>\n      <td>...</td>\n      <td>...</td>\n      <td>...</td>\n      <td>...</td>\n      <td>...</td>\n    </tr>\n    <tr>\n      <th>32530</th>\n      <td>NaN</td>\n      <td>Bachelors</td>\n      <td>Married-civ-spouse</td>\n      <td>NaN</td>\n      <td>Wife</td>\n      <td>White</td>\n      <td>Female</td>\n      <td>United-States</td>\n    </tr>\n    <tr>\n      <th>32531</th>\n      <td>NaN</td>\n      <td>Bachelors</td>\n      <td>Never-married</td>\n      <td>NaN</td>\n      <td>Not-in-family</td>\n      <td>Asian-Pac-Islander</td>\n      <td>Female</td>\n      <td>United-States</td>\n    </tr>\n    <tr>\n      <th>32539</th>\n      <td>NaN</td>\n      <td>Doctorate</td>\n      <td>Married-civ-spouse</td>\n      <td>NaN</td>\n      <td>Husband</td>\n      <td>White</td>\n      <td>Male</td>\n      <td>United-States</td>\n    </tr>\n    <tr>\n      <th>32541</th>\n      <td>NaN</td>\n      <td>HS-grad</td>\n      <td>Separated</td>\n      <td>NaN</td>\n      <td>Not-in-family</td>\n      <td>Black</td>\n      <td>Female</td>\n      <td>United-States</td>\n    </tr>\n    <tr>\n      <th>32542</th>\n      <td>NaN</td>\n      <td>HS-grad</td>\n      <td>Married-civ-spouse</td>\n      <td>NaN</td>\n      <td>Husband</td>\n      <td>White</td>\n      <td>Male</td>\n      <td>United-States</td>\n    </tr>\n  </tbody>\n</table>\n<p>2399 rows × 8 columns</p>\n</div>"
     },
     "execution_count": 6,
     "metadata": {},
     "output_type": "execute_result"
    }
   ],
   "source": [
    "# Find any Null value metrics in the categorical features.\n",
    "categorical_featuresDF_NaN = categorical_featuresDF[categorical_featuresDF.isnull().any(axis=1)]\n",
    "categorical_featuresDF_NaN"
   ],
   "metadata": {
    "collapsed": false,
    "ExecuteTime": {
     "end_time": "2024-03-29T11:21:16.340977800Z",
     "start_time": "2024-03-29T11:21:16.269457800Z"
    }
   },
   "id": "9135f7b2ff2082f7",
   "execution_count": 6
  },
  {
   "cell_type": "code",
   "outputs": [
    {
     "data": {
      "text/plain": "['workclass', 'occupation', 'native-country']"
     },
     "execution_count": 7,
     "metadata": {},
     "output_type": "execute_result"
    }
   ],
   "source": [
    "# Which features have a NaN value?\n",
    "categorical_featuresDF.columns[categorical_featuresDF.isna().any()].tolist()"
   ],
   "metadata": {
    "collapsed": false,
    "ExecuteTime": {
     "end_time": "2024-03-29T11:21:22.204657500Z",
     "start_time": "2024-03-29T11:21:22.137069600Z"
    }
   },
   "id": "651a65b799fb8fd6",
   "execution_count": 7
  },
  {
   "cell_type": "code",
   "outputs": [
    {
     "data": {
      "text/plain": "[]"
     },
     "execution_count": 8,
     "metadata": {},
     "output_type": "execute_result"
    }
   ],
   "source": [
    "# Impute the NaN values using scikit-learn SimpleImpute Class\n",
    "from sklearn.impute import SimpleImputer\n",
    "imputer = SimpleImputer(missing_values=np.nan, strategy='most_frequent')\n",
    "# Impute workclass values.\n",
    "imputer = imputer.fit(feature_df[['workclass']])\n",
    "feature_df['workclass'] = imputer.transform(feature_df[['workclass']]).ravel()\n",
    "# Impute occupation values.\n",
    "imputer = imputer.fit(feature_df[['occupation']])\n",
    "feature_df['occupation'] = imputer.transform(feature_df[['occupation']]).ravel()\n",
    "# Impute native-country values.\n",
    "imputer = imputer.fit(feature_df[['native-country']])\n",
    "feature_df['native-country'] = imputer.transform(feature_df[['native-country']]).ravel()\n",
    "\n",
    "# Recreate the dataframe of only the categorical features.\n",
    "categorical_featuresDF = feature_df.select_dtypes(include=['object']).copy()\n",
    "\n",
    "# Recheck to find any null value entries in the categorical features.\n",
    "categorical_featuresDF_NaN = categorical_featuresDF[categorical_featuresDF.isnull().any(axis=1)]\n",
    "# Which features have a NaN value?\n",
    "categorical_featuresDF.columns[categorical_featuresDF.isna().any()].tolist()\n"
   ],
   "metadata": {
    "collapsed": false,
    "ExecuteTime": {
     "end_time": "2024-03-29T11:21:29.205329400Z",
     "start_time": "2024-03-29T11:21:28.700228500Z"
    }
   },
   "id": "9eb6bf0528872f00",
   "execution_count": 8
  },
  {
   "cell_type": "code",
   "outputs": [
    {
     "name": "stdout",
     "output_type": "stream",
     "text": [
      "\u001B[91m\u001B[95m\n",
      "How many different sex feature types?\u001B[0m\n",
      " Male      21790\n",
      " Female    10771\n",
      "Name: sex, dtype: int64\n"
     ]
    }
   ],
   "source": [
    "# Use binary encoding for the sex feature.\n",
    "from sklearn.preprocessing import LabelBinarizer\n",
    "# How many different sex feature value types are there\n",
    "print(color.BOLD + color.PURPLE + \"\\nHow many different sex feature types?\" + color.END)\n",
    "print(categorical_featuresDF[\"sex\"].value_counts())"
   ],
   "metadata": {
    "collapsed": false,
    "ExecuteTime": {
     "end_time": "2024-03-29T11:21:40.908557800Z",
     "start_time": "2024-03-29T11:21:40.877529500Z"
    }
   },
   "id": "b35979918e133ddf",
   "execution_count": 9
  },
  {
   "cell_type": "code",
   "outputs": [
    {
     "name": "stdout",
     "output_type": "stream",
     "text": [
      "\u001B[91m\u001B[95m\n",
      "LabelBinarizer of sex feature\u001B[0m\n"
     ]
    },
    {
     "data": {
      "text/plain": "        sex  sex_code\n0      Male         1\n1      Male         1\n2      Male         1\n3      Male         1\n4    Female         0\n5    Female         0\n6    Female         0\n7      Male         1\n8    Female         0\n9      Male         1\n10     Male         1\n11     Male         1\n12   Female         0\n13     Male         1\n14     Male         1",
      "text/html": "<div>\n<style scoped>\n    .dataframe tbody tr th:only-of-type {\n        vertical-align: middle;\n    }\n\n    .dataframe tbody tr th {\n        vertical-align: top;\n    }\n\n    .dataframe thead th {\n        text-align: right;\n    }\n</style>\n<table border=\"1\" class=\"dataframe\">\n  <thead>\n    <tr style=\"text-align: right;\">\n      <th></th>\n      <th>sex</th>\n      <th>sex_code</th>\n    </tr>\n  </thead>\n  <tbody>\n    <tr>\n      <th>0</th>\n      <td>Male</td>\n      <td>1</td>\n    </tr>\n    <tr>\n      <th>1</th>\n      <td>Male</td>\n      <td>1</td>\n    </tr>\n    <tr>\n      <th>2</th>\n      <td>Male</td>\n      <td>1</td>\n    </tr>\n    <tr>\n      <th>3</th>\n      <td>Male</td>\n      <td>1</td>\n    </tr>\n    <tr>\n      <th>4</th>\n      <td>Female</td>\n      <td>0</td>\n    </tr>\n    <tr>\n      <th>5</th>\n      <td>Female</td>\n      <td>0</td>\n    </tr>\n    <tr>\n      <th>6</th>\n      <td>Female</td>\n      <td>0</td>\n    </tr>\n    <tr>\n      <th>7</th>\n      <td>Male</td>\n      <td>1</td>\n    </tr>\n    <tr>\n      <th>8</th>\n      <td>Female</td>\n      <td>0</td>\n    </tr>\n    <tr>\n      <th>9</th>\n      <td>Male</td>\n      <td>1</td>\n    </tr>\n    <tr>\n      <th>10</th>\n      <td>Male</td>\n      <td>1</td>\n    </tr>\n    <tr>\n      <th>11</th>\n      <td>Male</td>\n      <td>1</td>\n    </tr>\n    <tr>\n      <th>12</th>\n      <td>Female</td>\n      <td>0</td>\n    </tr>\n    <tr>\n      <th>13</th>\n      <td>Male</td>\n      <td>1</td>\n    </tr>\n    <tr>\n      <th>14</th>\n      <td>Male</td>\n      <td>1</td>\n    </tr>\n  </tbody>\n</table>\n</div>"
     },
     "execution_count": 10,
     "metadata": {},
     "output_type": "execute_result"
    }
   ],
   "source": [
    "label_style = LabelBinarizer()\n",
    "label_results = label_style.fit_transform(categorical_featuresDF[\"sex\"])\n",
    "print(color.BOLD + color.PURPLE + \"\\nLabelBinarizer of sex feature\" + color.END)\n",
    "categorical_featuresDF[\"sex_code\"] = pd.DataFrame({'sex': label_results[:, 0]})\n",
    "categorical_featuresDF[[\"sex\", \"sex_code\"]].head(15)"
   ],
   "metadata": {
    "collapsed": false,
    "ExecuteTime": {
     "end_time": "2024-03-29T11:21:47.818614500Z",
     "start_time": "2024-03-29T11:21:47.724613900Z"
    }
   },
   "id": "6d552295fc147f2f",
   "execution_count": 10
  },
  {
   "cell_type": "code",
   "outputs": [
    {
     "data": {
      "text/plain": "            workclass  workclass_code\n0           State-gov               6\n1    Self-emp-not-inc               5\n2             Private               3\n3             Private               3\n4             Private               3\n5             Private               3\n6             Private               3\n7    Self-emp-not-inc               5\n8             Private               3\n9             Private               3\n10            Private               3\n11          State-gov               6\n12            Private               3\n13            Private               3\n14            Private               3",
      "text/html": "<div>\n<style scoped>\n    .dataframe tbody tr th:only-of-type {\n        vertical-align: middle;\n    }\n\n    .dataframe tbody tr th {\n        vertical-align: top;\n    }\n\n    .dataframe thead th {\n        text-align: right;\n    }\n</style>\n<table border=\"1\" class=\"dataframe\">\n  <thead>\n    <tr style=\"text-align: right;\">\n      <th></th>\n      <th>workclass</th>\n      <th>workclass_code</th>\n    </tr>\n  </thead>\n  <tbody>\n    <tr>\n      <th>0</th>\n      <td>State-gov</td>\n      <td>6</td>\n    </tr>\n    <tr>\n      <th>1</th>\n      <td>Self-emp-not-inc</td>\n      <td>5</td>\n    </tr>\n    <tr>\n      <th>2</th>\n      <td>Private</td>\n      <td>3</td>\n    </tr>\n    <tr>\n      <th>3</th>\n      <td>Private</td>\n      <td>3</td>\n    </tr>\n    <tr>\n      <th>4</th>\n      <td>Private</td>\n      <td>3</td>\n    </tr>\n    <tr>\n      <th>5</th>\n      <td>Private</td>\n      <td>3</td>\n    </tr>\n    <tr>\n      <th>6</th>\n      <td>Private</td>\n      <td>3</td>\n    </tr>\n    <tr>\n      <th>7</th>\n      <td>Self-emp-not-inc</td>\n      <td>5</td>\n    </tr>\n    <tr>\n      <th>8</th>\n      <td>Private</td>\n      <td>3</td>\n    </tr>\n    <tr>\n      <th>9</th>\n      <td>Private</td>\n      <td>3</td>\n    </tr>\n    <tr>\n      <th>10</th>\n      <td>Private</td>\n      <td>3</td>\n    </tr>\n    <tr>\n      <th>11</th>\n      <td>State-gov</td>\n      <td>6</td>\n    </tr>\n    <tr>\n      <th>12</th>\n      <td>Private</td>\n      <td>3</td>\n    </tr>\n    <tr>\n      <th>13</th>\n      <td>Private</td>\n      <td>3</td>\n    </tr>\n    <tr>\n      <th>14</th>\n      <td>Private</td>\n      <td>3</td>\n    </tr>\n  </tbody>\n</table>\n</div>"
     },
     "execution_count": 11,
     "metadata": {},
     "output_type": "execute_result"
    }
   ],
   "source": [
    "# Perform label encoding on workclass feature\n",
    "from sklearn.preprocessing import LabelEncoder\n",
    "label_work_class = LabelEncoder()\n",
    "categorical_featuresDF[\"workclass_code\"] = label_work_class.fit_transform(categorical_featuresDF[\"workclass\"])\n",
    "categorical_featuresDF[[\"workclass\", \"workclass_code\"]].head(15)"
   ],
   "metadata": {
    "collapsed": false,
    "ExecuteTime": {
     "end_time": "2024-03-29T11:22:06.501195700Z",
     "start_time": "2024-03-29T11:22:06.465186300Z"
    }
   },
   "id": "7c5992d98d621914",
   "execution_count": 11
  },
  {
   "cell_type": "code",
   "outputs": [
    {
     "name": "stdout",
     "output_type": "stream",
     "text": [
      "\u001B[91m\u001B[95m\n",
      "How many different workclass feature types?\u001B[0m\n",
      " Private             24532\n",
      " Self-emp-not-inc     2541\n",
      " Local-gov            2093\n",
      " State-gov            1298\n",
      " Self-emp-inc         1116\n",
      " Federal-gov           960\n",
      " Without-pay            14\n",
      " Never-worked            7\n",
      "Name: workclass, dtype: int64\n"
     ]
    }
   ],
   "source": [
    "# Use one-hot encoding on the workclass feature\n",
    "# How many different workclass feature value types\n",
    "print(color.BOLD + color.PURPLE + \"\\nHow many different workclass feature types?\" + color.END)\n",
    "print(categorical_featuresDF[\"workclass\"].value_counts())"
   ],
   "metadata": {
    "collapsed": false,
    "ExecuteTime": {
     "end_time": "2024-03-29T11:49:05.377966600Z",
     "start_time": "2024-03-29T11:49:05.329967300Z"
    }
   },
   "id": "bed26673d8434ae5",
   "execution_count": 12
  },
  {
   "cell_type": "code",
   "outputs": [
    {
     "data": {
      "text/plain": "    education       marital-status          occupation    relationship  \\\n0   Bachelors        Never-married        Adm-clerical   Not-in-family   \n1   Bachelors   Married-civ-spouse     Exec-managerial         Husband   \n2     HS-grad             Divorced   Handlers-cleaners   Not-in-family   \n3        11th   Married-civ-spouse   Handlers-cleaners         Husband   \n4   Bachelors   Married-civ-spouse      Prof-specialty            Wife   \n\n     race      sex  native-country  sex_code  workclass_code  \\\n0   White     Male   United-States         1               6   \n1   White     Male   United-States         1               5   \n2   White     Male   United-States         1               3   \n3   Black     Male   United-States         1               3   \n4   Black   Female            Cuba         0               3   \n\n   workclass_ Federal-gov  workclass_ Local-gov  workclass_ Never-worked  \\\n0                       0                     0                        0   \n1                       0                     0                        0   \n2                       0                     0                        0   \n3                       0                     0                        0   \n4                       0                     0                        0   \n\n   workclass_ Private  workclass_ Self-emp-inc  workclass_ Self-emp-not-inc  \\\n0                   0                        0                            0   \n1                   0                        0                            1   \n2                   1                        0                            0   \n3                   1                        0                            0   \n4                   1                        0                            0   \n\n   workclass_ State-gov  workclass_ Without-pay  \n0                     1                       0  \n1                     0                       0  \n2                     0                       0  \n3                     0                       0  \n4                     0                       0  ",
      "text/html": "<div>\n<style scoped>\n    .dataframe tbody tr th:only-of-type {\n        vertical-align: middle;\n    }\n\n    .dataframe tbody tr th {\n        vertical-align: top;\n    }\n\n    .dataframe thead th {\n        text-align: right;\n    }\n</style>\n<table border=\"1\" class=\"dataframe\">\n  <thead>\n    <tr style=\"text-align: right;\">\n      <th></th>\n      <th>education</th>\n      <th>marital-status</th>\n      <th>occupation</th>\n      <th>relationship</th>\n      <th>race</th>\n      <th>sex</th>\n      <th>native-country</th>\n      <th>sex_code</th>\n      <th>workclass_code</th>\n      <th>workclass_ Federal-gov</th>\n      <th>workclass_ Local-gov</th>\n      <th>workclass_ Never-worked</th>\n      <th>workclass_ Private</th>\n      <th>workclass_ Self-emp-inc</th>\n      <th>workclass_ Self-emp-not-inc</th>\n      <th>workclass_ State-gov</th>\n      <th>workclass_ Without-pay</th>\n    </tr>\n  </thead>\n  <tbody>\n    <tr>\n      <th>0</th>\n      <td>Bachelors</td>\n      <td>Never-married</td>\n      <td>Adm-clerical</td>\n      <td>Not-in-family</td>\n      <td>White</td>\n      <td>Male</td>\n      <td>United-States</td>\n      <td>1</td>\n      <td>6</td>\n      <td>0</td>\n      <td>0</td>\n      <td>0</td>\n      <td>0</td>\n      <td>0</td>\n      <td>0</td>\n      <td>1</td>\n      <td>0</td>\n    </tr>\n    <tr>\n      <th>1</th>\n      <td>Bachelors</td>\n      <td>Married-civ-spouse</td>\n      <td>Exec-managerial</td>\n      <td>Husband</td>\n      <td>White</td>\n      <td>Male</td>\n      <td>United-States</td>\n      <td>1</td>\n      <td>5</td>\n      <td>0</td>\n      <td>0</td>\n      <td>0</td>\n      <td>0</td>\n      <td>0</td>\n      <td>1</td>\n      <td>0</td>\n      <td>0</td>\n    </tr>\n    <tr>\n      <th>2</th>\n      <td>HS-grad</td>\n      <td>Divorced</td>\n      <td>Handlers-cleaners</td>\n      <td>Not-in-family</td>\n      <td>White</td>\n      <td>Male</td>\n      <td>United-States</td>\n      <td>1</td>\n      <td>3</td>\n      <td>0</td>\n      <td>0</td>\n      <td>0</td>\n      <td>1</td>\n      <td>0</td>\n      <td>0</td>\n      <td>0</td>\n      <td>0</td>\n    </tr>\n    <tr>\n      <th>3</th>\n      <td>11th</td>\n      <td>Married-civ-spouse</td>\n      <td>Handlers-cleaners</td>\n      <td>Husband</td>\n      <td>Black</td>\n      <td>Male</td>\n      <td>United-States</td>\n      <td>1</td>\n      <td>3</td>\n      <td>0</td>\n      <td>0</td>\n      <td>0</td>\n      <td>1</td>\n      <td>0</td>\n      <td>0</td>\n      <td>0</td>\n      <td>0</td>\n    </tr>\n    <tr>\n      <th>4</th>\n      <td>Bachelors</td>\n      <td>Married-civ-spouse</td>\n      <td>Prof-specialty</td>\n      <td>Wife</td>\n      <td>Black</td>\n      <td>Female</td>\n      <td>Cuba</td>\n      <td>0</td>\n      <td>3</td>\n      <td>0</td>\n      <td>0</td>\n      <td>0</td>\n      <td>1</td>\n      <td>0</td>\n      <td>0</td>\n      <td>0</td>\n      <td>0</td>\n    </tr>\n  </tbody>\n</table>\n</div>"
     },
     "execution_count": 13,
     "metadata": {},
     "output_type": "execute_result"
    }
   ],
   "source": [
    "# One-hot encode the workclass feature\n",
    "pd.get_dummies(categorical_featuresDF, columns=[\"workclass\"]).head()"
   ],
   "metadata": {
    "collapsed": false,
    "ExecuteTime": {
     "end_time": "2024-03-29T11:49:19.561803200Z",
     "start_time": "2024-03-29T11:49:19.535775900Z"
    }
   },
   "id": "fc9c29f46b025f17",
   "execution_count": 13
  },
  {
   "cell_type": "code",
   "outputs": [
    {
     "name": "stdout",
     "output_type": "stream",
     "text": [
      "\u001B[91m\u001B[95m\n",
      "How many different marital-status feature types?\u001B[0m\n",
      " Married-civ-spouse       14976\n",
      " Never-married            10683\n",
      " Divorced                  4443\n",
      " Separated                 1025\n",
      " Widowed                    993\n",
      " Married-spouse-absent      418\n",
      " Married-AF-spouse           23\n",
      "Name: marital-status, dtype: int64\n"
     ]
    },
    {
     "data": {
      "text/plain": "           workclass   education          occupation    relationship    race  \\\n0          State-gov   Bachelors        Adm-clerical   Not-in-family   White   \n1   Self-emp-not-inc   Bachelors     Exec-managerial         Husband   White   \n2            Private     HS-grad   Handlers-cleaners   Not-in-family   White   \n3            Private        11th   Handlers-cleaners         Husband   Black   \n4            Private   Bachelors      Prof-specialty            Wife   Black   \n\n       sex  native-country  sex_code  workclass_code  \\\n0     Male   United-States         1               6   \n1     Male   United-States         1               5   \n2     Male   United-States         1               3   \n3     Male   United-States         1               3   \n4   Female            Cuba         0               3   \n\n   marital-status_ Divorced  marital-status_ Married-AF-spouse  \\\n0                         0                                  0   \n1                         0                                  0   \n2                         1                                  0   \n3                         0                                  0   \n4                         0                                  0   \n\n   marital-status_ Married-civ-spouse  marital-status_ Married-spouse-absent  \\\n0                                   0                                      0   \n1                                   1                                      0   \n2                                   0                                      0   \n3                                   1                                      0   \n4                                   1                                      0   \n\n   marital-status_ Never-married  marital-status_ Separated  \\\n0                              1                          0   \n1                              0                          0   \n2                              0                          0   \n3                              0                          0   \n4                              0                          0   \n\n   marital-status_ Widowed  \n0                        0  \n1                        0  \n2                        0  \n3                        0  \n4                        0  ",
      "text/html": "<div>\n<style scoped>\n    .dataframe tbody tr th:only-of-type {\n        vertical-align: middle;\n    }\n\n    .dataframe tbody tr th {\n        vertical-align: top;\n    }\n\n    .dataframe thead th {\n        text-align: right;\n    }\n</style>\n<table border=\"1\" class=\"dataframe\">\n  <thead>\n    <tr style=\"text-align: right;\">\n      <th></th>\n      <th>workclass</th>\n      <th>education</th>\n      <th>occupation</th>\n      <th>relationship</th>\n      <th>race</th>\n      <th>sex</th>\n      <th>native-country</th>\n      <th>sex_code</th>\n      <th>workclass_code</th>\n      <th>marital-status_ Divorced</th>\n      <th>marital-status_ Married-AF-spouse</th>\n      <th>marital-status_ Married-civ-spouse</th>\n      <th>marital-status_ Married-spouse-absent</th>\n      <th>marital-status_ Never-married</th>\n      <th>marital-status_ Separated</th>\n      <th>marital-status_ Widowed</th>\n    </tr>\n  </thead>\n  <tbody>\n    <tr>\n      <th>0</th>\n      <td>State-gov</td>\n      <td>Bachelors</td>\n      <td>Adm-clerical</td>\n      <td>Not-in-family</td>\n      <td>White</td>\n      <td>Male</td>\n      <td>United-States</td>\n      <td>1</td>\n      <td>6</td>\n      <td>0</td>\n      <td>0</td>\n      <td>0</td>\n      <td>0</td>\n      <td>1</td>\n      <td>0</td>\n      <td>0</td>\n    </tr>\n    <tr>\n      <th>1</th>\n      <td>Self-emp-not-inc</td>\n      <td>Bachelors</td>\n      <td>Exec-managerial</td>\n      <td>Husband</td>\n      <td>White</td>\n      <td>Male</td>\n      <td>United-States</td>\n      <td>1</td>\n      <td>5</td>\n      <td>0</td>\n      <td>0</td>\n      <td>1</td>\n      <td>0</td>\n      <td>0</td>\n      <td>0</td>\n      <td>0</td>\n    </tr>\n    <tr>\n      <th>2</th>\n      <td>Private</td>\n      <td>HS-grad</td>\n      <td>Handlers-cleaners</td>\n      <td>Not-in-family</td>\n      <td>White</td>\n      <td>Male</td>\n      <td>United-States</td>\n      <td>1</td>\n      <td>3</td>\n      <td>1</td>\n      <td>0</td>\n      <td>0</td>\n      <td>0</td>\n      <td>0</td>\n      <td>0</td>\n      <td>0</td>\n    </tr>\n    <tr>\n      <th>3</th>\n      <td>Private</td>\n      <td>11th</td>\n      <td>Handlers-cleaners</td>\n      <td>Husband</td>\n      <td>Black</td>\n      <td>Male</td>\n      <td>United-States</td>\n      <td>1</td>\n      <td>3</td>\n      <td>0</td>\n      <td>0</td>\n      <td>1</td>\n      <td>0</td>\n      <td>0</td>\n      <td>0</td>\n      <td>0</td>\n    </tr>\n    <tr>\n      <th>4</th>\n      <td>Private</td>\n      <td>Bachelors</td>\n      <td>Prof-specialty</td>\n      <td>Wife</td>\n      <td>Black</td>\n      <td>Female</td>\n      <td>Cuba</td>\n      <td>0</td>\n      <td>3</td>\n      <td>0</td>\n      <td>0</td>\n      <td>1</td>\n      <td>0</td>\n      <td>0</td>\n      <td>0</td>\n      <td>0</td>\n    </tr>\n  </tbody>\n</table>\n</div>"
     },
     "execution_count": 15,
     "metadata": {},
     "output_type": "execute_result"
    }
   ],
   "source": [
    "# Use one-hot encoding on the marital-status feature\n",
    "\n",
    "# How many different marital-status feature value types\n",
    "print(color.BOLD + color.PURPLE + \"\\nHow many different marital-status feature types?\" + color.END)\n",
    "print(categorical_featuresDF[\"marital-status\"].value_counts())\n",
    "\n",
    "# One-hot encode the marital-status feature\n",
    "pd.get_dummies(categorical_featuresDF, columns=[\"marital-status\"]).head()"
   ],
   "metadata": {
    "collapsed": false,
    "ExecuteTime": {
     "end_time": "2024-03-29T11:49:58.566611900Z",
     "start_time": "2024-03-29T11:49:58.522612700Z"
    }
   },
   "id": "7733276c5a9c747e",
   "execution_count": 15
  },
  {
   "cell_type": "code",
   "outputs": [
    {
     "name": "stdout",
     "output_type": "stream",
     "text": [
      "\u001B[91m\u001B[95m\n",
      "How many different native-country feature types?\u001B[0m\n",
      " United-States                 29753\n",
      " Mexico                          643\n",
      " Philippines                     198\n",
      " Germany                         137\n",
      " Canada                          121\n",
      " Puerto-Rico                     114\n",
      " El-Salvador                     106\n",
      " India                           100\n",
      " Cuba                             95\n",
      " England                          90\n",
      " Jamaica                          81\n",
      " South                            80\n",
      " China                            75\n",
      " Italy                            73\n",
      " Dominican-Republic               70\n",
      " Vietnam                          67\n",
      " Guatemala                        64\n",
      " Japan                            62\n",
      " Poland                           60\n",
      " Columbia                         59\n",
      " Taiwan                           51\n",
      " Haiti                            44\n",
      " Iran                             43\n",
      " Portugal                         37\n",
      " Nicaragua                        34\n",
      " Peru                             31\n",
      " France                           29\n",
      " Greece                           29\n",
      " Ecuador                          28\n",
      " Ireland                          24\n",
      " Hong                             20\n",
      " Cambodia                         19\n",
      " Trinadad&Tobago                  19\n",
      " Laos                             18\n",
      " Thailand                         18\n",
      " Yugoslavia                       16\n",
      " Outlying-US(Guam-USVI-etc)       14\n",
      " Honduras                         13\n",
      " Hungary                          13\n",
      " Scotland                         12\n",
      " Holand-Netherlands                1\n",
      "Name: native-country, dtype: int64\n"
     ]
    },
    {
     "data": {
      "text/plain": "           workclass   education       marital-status          occupation  \\\n0          State-gov   Bachelors        Never-married        Adm-clerical   \n1   Self-emp-not-inc   Bachelors   Married-civ-spouse     Exec-managerial   \n2            Private     HS-grad             Divorced   Handlers-cleaners   \n3            Private        11th   Married-civ-spouse   Handlers-cleaners   \n4            Private   Bachelors   Married-civ-spouse      Prof-specialty   \n\n     relationship    race      sex  sex_code  workclass_code  \\\n0   Not-in-family   White     Male         1               6   \n1         Husband   White     Male         1               5   \n2   Not-in-family   White     Male         1               3   \n3         Husband   Black     Male         1               3   \n4            Wife   Black   Female         0               3   \n\n   native-country_ Cambodia  ...  native-country_ Portugal  \\\n0                         0  ...                         0   \n1                         0  ...                         0   \n2                         0  ...                         0   \n3                         0  ...                         0   \n4                         0  ...                         0   \n\n   native-country_ Puerto-Rico  native-country_ Scotland  \\\n0                            0                         0   \n1                            0                         0   \n2                            0                         0   \n3                            0                         0   \n4                            0                         0   \n\n   native-country_ South  native-country_ Taiwan  native-country_ Thailand  \\\n0                      0                       0                         0   \n1                      0                       0                         0   \n2                      0                       0                         0   \n3                      0                       0                         0   \n4                      0                       0                         0   \n\n   native-country_ Trinadad&Tobago  native-country_ United-States  \\\n0                                0                              1   \n1                                0                              1   \n2                                0                              1   \n3                                0                              1   \n4                                0                              0   \n\n   native-country_ Vietnam  native-country_ Yugoslavia  \n0                        0                           0  \n1                        0                           0  \n2                        0                           0  \n3                        0                           0  \n4                        0                           0  \n\n[5 rows x 50 columns]",
      "text/html": "<div>\n<style scoped>\n    .dataframe tbody tr th:only-of-type {\n        vertical-align: middle;\n    }\n\n    .dataframe tbody tr th {\n        vertical-align: top;\n    }\n\n    .dataframe thead th {\n        text-align: right;\n    }\n</style>\n<table border=\"1\" class=\"dataframe\">\n  <thead>\n    <tr style=\"text-align: right;\">\n      <th></th>\n      <th>workclass</th>\n      <th>education</th>\n      <th>marital-status</th>\n      <th>occupation</th>\n      <th>relationship</th>\n      <th>race</th>\n      <th>sex</th>\n      <th>sex_code</th>\n      <th>workclass_code</th>\n      <th>native-country_ Cambodia</th>\n      <th>...</th>\n      <th>native-country_ Portugal</th>\n      <th>native-country_ Puerto-Rico</th>\n      <th>native-country_ Scotland</th>\n      <th>native-country_ South</th>\n      <th>native-country_ Taiwan</th>\n      <th>native-country_ Thailand</th>\n      <th>native-country_ Trinadad&amp;Tobago</th>\n      <th>native-country_ United-States</th>\n      <th>native-country_ Vietnam</th>\n      <th>native-country_ Yugoslavia</th>\n    </tr>\n  </thead>\n  <tbody>\n    <tr>\n      <th>0</th>\n      <td>State-gov</td>\n      <td>Bachelors</td>\n      <td>Never-married</td>\n      <td>Adm-clerical</td>\n      <td>Not-in-family</td>\n      <td>White</td>\n      <td>Male</td>\n      <td>1</td>\n      <td>6</td>\n      <td>0</td>\n      <td>...</td>\n      <td>0</td>\n      <td>0</td>\n      <td>0</td>\n      <td>0</td>\n      <td>0</td>\n      <td>0</td>\n      <td>0</td>\n      <td>1</td>\n      <td>0</td>\n      <td>0</td>\n    </tr>\n    <tr>\n      <th>1</th>\n      <td>Self-emp-not-inc</td>\n      <td>Bachelors</td>\n      <td>Married-civ-spouse</td>\n      <td>Exec-managerial</td>\n      <td>Husband</td>\n      <td>White</td>\n      <td>Male</td>\n      <td>1</td>\n      <td>5</td>\n      <td>0</td>\n      <td>...</td>\n      <td>0</td>\n      <td>0</td>\n      <td>0</td>\n      <td>0</td>\n      <td>0</td>\n      <td>0</td>\n      <td>0</td>\n      <td>1</td>\n      <td>0</td>\n      <td>0</td>\n    </tr>\n    <tr>\n      <th>2</th>\n      <td>Private</td>\n      <td>HS-grad</td>\n      <td>Divorced</td>\n      <td>Handlers-cleaners</td>\n      <td>Not-in-family</td>\n      <td>White</td>\n      <td>Male</td>\n      <td>1</td>\n      <td>3</td>\n      <td>0</td>\n      <td>...</td>\n      <td>0</td>\n      <td>0</td>\n      <td>0</td>\n      <td>0</td>\n      <td>0</td>\n      <td>0</td>\n      <td>0</td>\n      <td>1</td>\n      <td>0</td>\n      <td>0</td>\n    </tr>\n    <tr>\n      <th>3</th>\n      <td>Private</td>\n      <td>11th</td>\n      <td>Married-civ-spouse</td>\n      <td>Handlers-cleaners</td>\n      <td>Husband</td>\n      <td>Black</td>\n      <td>Male</td>\n      <td>1</td>\n      <td>3</td>\n      <td>0</td>\n      <td>...</td>\n      <td>0</td>\n      <td>0</td>\n      <td>0</td>\n      <td>0</td>\n      <td>0</td>\n      <td>0</td>\n      <td>0</td>\n      <td>1</td>\n      <td>0</td>\n      <td>0</td>\n    </tr>\n    <tr>\n      <th>4</th>\n      <td>Private</td>\n      <td>Bachelors</td>\n      <td>Married-civ-spouse</td>\n      <td>Prof-specialty</td>\n      <td>Wife</td>\n      <td>Black</td>\n      <td>Female</td>\n      <td>0</td>\n      <td>3</td>\n      <td>0</td>\n      <td>...</td>\n      <td>0</td>\n      <td>0</td>\n      <td>0</td>\n      <td>0</td>\n      <td>0</td>\n      <td>0</td>\n      <td>0</td>\n      <td>0</td>\n      <td>0</td>\n      <td>0</td>\n    </tr>\n  </tbody>\n</table>\n<p>5 rows × 50 columns</p>\n</div>"
     },
     "execution_count": 16,
     "metadata": {},
     "output_type": "execute_result"
    }
   ],
   "source": [
    "# Use one-hot encoding on the native-country feature\n",
    "\n",
    "# How many different native-country feature value types\n",
    "print(color.BOLD + color.PURPLE + \"\\nHow many different native-country feature types?\" + color.END)\n",
    "print(categorical_featuresDF[\"native-country\"].value_counts())\n",
    "\n",
    "# One-hot encode the native-country feature.\n",
    "pd.get_dummies(categorical_featuresDF, columns=[\"native-country\"]).head()"
   ],
   "metadata": {
    "collapsed": false,
    "ExecuteTime": {
     "end_time": "2024-03-29T11:57:06.312305900Z",
     "start_time": "2024-03-29T11:57:06.265275100Z"
    }
   },
   "id": "43b167cc71f9df33",
   "execution_count": 16
  },
  {
   "cell_type": "code",
   "outputs": [],
   "source": [],
   "metadata": {
    "collapsed": false
   },
   "id": "eba6d772aaaa10a7"
  }
 ],
 "metadata": {
  "kernelspec": {
   "display_name": "Python 3",
   "language": "python",
   "name": "python3"
  },
  "language_info": {
   "codemirror_mode": {
    "name": "ipython",
    "version": 2
   },
   "file_extension": ".py",
   "mimetype": "text/x-python",
   "name": "python",
   "nbconvert_exporter": "python",
   "pygments_lexer": "ipython2",
   "version": "2.7.6"
  }
 },
 "nbformat": 4,
 "nbformat_minor": 5
}
