{
 "cells": [
  {
   "cell_type": "code",
   "execution_count": null,
   "id": "initial_id",
   "metadata": {
    "collapsed": true
   },
   "outputs": [],
   "source": [
    "from sklearn.datasets import fetch_mldata\n",
    "mnist = fetch_mldata(\"MNIST original\")\n",
    "from sklearn.model_selection import train_test_split\n",
    "from sklearn.preprocessing import StandardScaler\n",
    "from sklearn.decomposition import PCA\n",
    "from sklearn.linear_model import LogisticRegression\n",
    "import time\n",
    "\n",
    "# Split data between train and test.\n",
    "train_img, test_img, train_lbl, test_lbl = train_test_split( mnist.data, mnist.target, test_size=1/7.0, random_state=0)\n",
    "scaler = StandardScaler()\n",
    "# Fit training set only.\n",
    "scaler.fit(train_img)\n",
    "\n",
    "# Apply transform to both training set and test set.\n",
    "train_img = scaler.transform(train_img)\n",
    "test_img = scaler.transform(test_img)\n",
    "\n",
    "# Make an instance of the model.\n",
    "pca = PCA(.85)\n",
    "\n",
    "# PCA Fit.\n",
    "pca.fit(train_img)\n",
    "\n",
    "# How many components did PCA choose?\n",
    "print(\"\\nNumber of components: %s\\n\" %pca.n_components_)"
   ]
  },
  {
   "cell_type": "code",
   "execution_count": null,
   "id": "1461b63c8e8b2a1a",
   "metadata": {
    "collapsed": false
   },
   "outputs": [],
   "source": [
    "# Transform both train and test datasets.\n",
    "train_img = pca.transform(train_img)\n",
    "test_img = pca.transform(test_img)\n",
    "\n",
    "# desualt solver is very slow, use 'lbfgs'\n",
    "logisticRegr = LogisticRegression(solver='lbfgs')\n",
    "\n",
    "# Train the model\n",
    "start_time = time.time()\n",
    "logisticRegr.fit(train_img, train_lbl)\n",
    "finish_time = time.time()\n",
    "\n",
    "# Predict for Ten Observations (image)\n",
    "logisticRegr.predict(test_img[0:10])\n",
    "\n",
    "# Measure perfomance\n",
    "logisticRegr.score(test_img, test_lbl)"
   ]
  },
  {
   "cell_type": "code",
   "execution_count": null,
   "id": "4e00b33897423fa",
   "metadata": {
    "collapsed": false
   },
   "outputs": [],
   "source": [
    "run_time = finish_time - start_time\n",
    "run_time"
   ]
  }
 ],
 "metadata": {
  "kernelspec": {
   "display_name": "Python 3",
   "language": "python",
   "name": "python3"
  },
  "language_info": {
   "codemirror_mode": {
    "name": "ipython",
    "version": 2
   },
   "file_extension": ".py",
   "mimetype": "text/x-python",
   "name": "python",
   "nbconvert_exporter": "python",
   "pygments_lexer": "ipython2",
   "version": "2.7.6"
  }
 },
 "nbformat": 4,
 "nbformat_minor": 5
}
