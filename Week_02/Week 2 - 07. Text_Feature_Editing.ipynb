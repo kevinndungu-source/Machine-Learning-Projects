{
 "cells": [
  {
   "cell_type": "code",
   "id": "initial_id",
   "metadata": {
    "collapsed": true,
    "ExecuteTime": {
     "end_time": "2024-05-18T16:12:29.772375Z",
     "start_time": "2024-05-18T16:12:29.742376Z"
    }
   },
   "source": [
    "from sklearn.feature_extraction.text import CountVectorizer\n",
    "#\n",
    "# Bag-Of-Words example\n",
    "#\n",
    "# Some text\n",
    "short_text = [\"The aggressive brown beast exasperated the pedantic pontificator.\"]\n",
    "# Create the vectorizer transformer\n",
    "vectorizer = CountVectorizer()\n",
    "# Tokenize and create the vocabulary\n",
    "vectorizer.fit(short_text)\n",
    "# Show vectorized vocabulary\n",
    "print(vectorizer.vocabulary_)\n",
    "# Encode the text\n",
    "vector = vectorizer.transform(short_text)\n",
    "# Show the encoded vector\n",
    "print(vector.shape)\n",
    "print(type(vector))\n",
    "print(vector.toarray())"
   ],
   "outputs": [
    {
     "name": "stdout",
     "output_type": "stream",
     "text": [
      "{'the': 6, 'aggressive': 0, 'brown': 2, 'beast': 1, 'exasperated': 3, 'pedantic': 4, 'pontificator': 5}\n",
      "(1, 7)\n",
      "<class 'scipy.sparse._csr.csr_matrix'>\n",
      "[[1 1 1 1 1 1 2]]\n"
     ]
    }
   ],
   "execution_count": 2
  },
  {
   "metadata": {
    "ExecuteTime": {
     "end_time": "2024-05-18T16:58:32.730888Z",
     "start_time": "2024-05-18T16:58:32.710887Z"
    }
   },
   "cell_type": "code",
   "source": [
    "#\n",
    "# N-Gram example\n",
    "#\n",
    "# Create the vectorizer transformer\n",
    "ngram_vectorizer = CountVectorizer(analyzer='word', ngram_range=(1, 3))\n",
    "# Tokenize and create the vocabulary.\n",
    "counts = ngram_vectorizer.fit_transform(['The silly puppy ran all around the yard and the bit his owner!'])\n",
    "# check the results\n",
    "print(ngram_vectorizer.get_feature_names_out())\n"
   ],
   "id": "cf1211f3a83e73c9",
   "outputs": [
    {
     "name": "stdout",
     "output_type": "stream",
     "text": [
      "['all' 'all around' 'all around the' 'and' 'and the' 'and the bit'\n",
      " 'around' 'around the' 'around the yard' 'bit' 'bit his' 'bit his owner'\n",
      " 'his' 'his owner' 'owner' 'puppy' 'puppy ran' 'puppy ran all' 'ran'\n",
      " 'ran all' 'ran all around' 'silly' 'silly puppy' 'silly puppy ran' 'the'\n",
      " 'the bit' 'the bit his' 'the silly' 'the silly puppy' 'the yard'\n",
      " 'the yard and' 'yard' 'yard and' 'yard and the']\n"
     ]
    }
   ],
   "execution_count": 5
  }
 ],
 "metadata": {
  "kernelspec": {
   "display_name": "Python 3",
   "language": "python",
   "name": "python3"
  },
  "language_info": {
   "codemirror_mode": {
    "name": "ipython",
    "version": 2
   },
   "file_extension": ".py",
   "mimetype": "text/x-python",
   "name": "python",
   "nbconvert_exporter": "python",
   "pygments_lexer": "ipython2",
   "version": "2.7.6"
  }
 },
 "nbformat": 4,
 "nbformat_minor": 5
}
