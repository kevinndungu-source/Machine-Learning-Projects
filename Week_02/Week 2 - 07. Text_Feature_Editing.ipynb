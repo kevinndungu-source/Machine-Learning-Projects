{
 "cells": [
  {
   "cell_type": "code",
   "id": "initial_id",
   "metadata": {
    "collapsed": true,
    "ExecuteTime": {
     "end_time": "2024-05-18T16:12:29.772375Z",
     "start_time": "2024-05-18T16:12:29.742376Z"
    }
   },
   "source": [
    "from sklearn.feature_extraction.text import CountVectorizer\n",
    "#\n",
    "# Bag-Of-Words example\n",
    "#\n",
    "# Some text\n",
    "short_text = [\"The aggressive brown beast exasperated the pedantic pontificator.\"]\n",
    "# Create the vectorizer transformer\n",
    "vectorizer = CountVectorizer()\n",
    "# Tokenize and create the vocabulary\n",
    "vectorizer.fit(short_text)\n",
    "# Show vectorized vocabulary\n",
    "print(vectorizer.vocabulary_)\n",
    "# Encode the text\n",
    "vector = vectorizer.transform(short_text)\n",
    "# Show the encoded vector\n",
    "print(vector.shape)\n",
    "print(type(vector))\n",
    "print(vector.toarray())"
   ],
   "outputs": [
    {
     "name": "stdout",
     "output_type": "stream",
     "text": [
      "{'the': 6, 'aggressive': 0, 'brown': 2, 'beast': 1, 'exasperated': 3, 'pedantic': 4, 'pontificator': 5}\n",
      "(1, 7)\n",
      "<class 'scipy.sparse._csr.csr_matrix'>\n",
      "[[1 1 1 1 1 1 2]]\n"
     ]
    }
   ],
   "execution_count": 2
  },
  {
   "metadata": {
    "ExecuteTime": {
     "end_time": "2024-05-18T16:21:19.926045Z",
     "start_time": "2024-05-18T16:21:19.845041Z"
    }
   },
   "cell_type": "code",
   "source": [
    "#\n",
    "# N-Gram example\n",
    "#\n",
    "# Create the vectorizer transformer\n",
    "ngram_vectorizer = CountVectorizer(analyzer='word', ngram_range=(1, 3))\n",
    "# Tokenize and create the vocabulary.\n",
    "counts = ngram_vectorizer.fit_transform(['The silly puppy ran all around the yard and the bit his owner!'])\n",
    "# check the results\n",
    "print(ngram_vectorizer.get_feature_names())"
   ],
   "id": "cf1211f3a83e73c9",
   "outputs": [
    {
     "ename": "AttributeError",
     "evalue": "'CountVectorizer' object has no attribute 'get_feature_names'",
     "output_type": "error",
     "traceback": [
      "\u001B[1;31m---------------------------------------------------------------------------\u001B[0m",
      "\u001B[1;31mAttributeError\u001B[0m                            Traceback (most recent call last)",
      "Cell \u001B[1;32mIn[3], line 9\u001B[0m\n\u001B[0;32m      7\u001B[0m counts \u001B[38;5;241m=\u001B[39m ngram_vectorizer\u001B[38;5;241m.\u001B[39mfit_transform([\u001B[38;5;124m'\u001B[39m\u001B[38;5;124mThe silly puppy ran all around the yard and the bit his owner!\u001B[39m\u001B[38;5;124m'\u001B[39m])\n\u001B[0;32m      8\u001B[0m \u001B[38;5;66;03m# check the results\u001B[39;00m\n\u001B[1;32m----> 9\u001B[0m \u001B[38;5;28mprint\u001B[39m(\u001B[43mngram_vectorizer\u001B[49m\u001B[38;5;241;43m.\u001B[39;49m\u001B[43mget_feature_names\u001B[49m())\n",
      "\u001B[1;31mAttributeError\u001B[0m: 'CountVectorizer' object has no attribute 'get_feature_names'"
     ]
    }
   ],
   "execution_count": 3
  },
  {
   "metadata": {},
   "cell_type": "code",
   "outputs": [],
   "execution_count": null,
   "source": "",
   "id": "8c979311ebc6f2dc"
  }
 ],
 "metadata": {
  "kernelspec": {
   "display_name": "Python 3",
   "language": "python",
   "name": "python3"
  },
  "language_info": {
   "codemirror_mode": {
    "name": "ipython",
    "version": 2
   },
   "file_extension": ".py",
   "mimetype": "text/x-python",
   "name": "python",
   "nbconvert_exporter": "python",
   "pygments_lexer": "ipython2",
   "version": "2.7.6"
  }
 },
 "nbformat": 4,
 "nbformat_minor": 5
}
