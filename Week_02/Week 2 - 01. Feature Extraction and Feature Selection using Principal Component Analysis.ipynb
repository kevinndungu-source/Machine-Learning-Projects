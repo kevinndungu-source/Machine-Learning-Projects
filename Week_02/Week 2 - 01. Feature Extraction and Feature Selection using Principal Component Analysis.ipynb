{
 "cells": [
  {
   "metadata": {
    "ExecuteTime": {
     "end_time": "2024-05-06T11:57:00.175602Z",
     "start_time": "2024-05-06T11:56:42.693707Z"
    }
   },
   "cell_type": "code",
   "source": [
    "from sklearn.datasets import fetch_openml\n",
    "from sklearn.model_selection import train_test_split\n",
    "from sklearn.preprocessing import StandardScaler\n",
    "from sklearn.decomposition import PCA\n",
    "from sklearn.linear_model import LogisticRegression\n",
    "import time\n",
    "\n",
    "# Load MNIST dataset\n",
    "mnist = fetch_openml(\"mnist_784\", version=1)\n",
    "\n",
    "# Split data between train and test\n",
    "train_img, test_img, train_lbl, test_lbl = train_test_split(mnist.data, mnist.target, test_size=1/7.0, random_state=0)\n",
    "\n",
    "# Standardize features\n",
    "scaler = StandardScaler()\n",
    "train_img = scaler.fit_transform(train_img)\n",
    "test_img = scaler.transform(test_img)\n",
    "\n",
    "# Apply PCA\n",
    "pca = PCA(n_components=0.85)\n",
    "train_img_pca = pca.fit_transform(train_img)\n",
    "test_img_pca = pca.transform(test_img)\n",
    "\n",
    "# Check the number of components selected by PCA\n",
    "print(\"\\nNumber of components selected by PCA: %s\\n\" % pca.n_components_)\n"
   ],
   "id": "79128a6abd4d18e7",
   "outputs": [
    {
     "name": "stdout",
     "output_type": "stream",
     "text": [
      "\n",
      "Number of components selected by PCA: 182\n",
      "\n"
     ]
    }
   ],
   "execution_count": 9
  },
  {
   "metadata": {
    "ExecuteTime": {
     "end_time": "2024-05-06T11:57:13.138768Z",
     "start_time": "2024-05-06T11:57:06.237229Z"
    }
   },
   "cell_type": "code",
   "source": [
    "# Transform both train and test datasets using the same PCA instance\n",
    "train_img = pca.transform(train_img)\n",
    "test_img = pca.transform(test_img)\n",
    "\n",
    "# Use 'lbfgs' solver for logistic regression\n",
    "logisticRegr = LogisticRegression(solver='lbfgs')\n",
    "\n",
    "# Train the model\n",
    "start_time = time.time()\n",
    "logisticRegr.fit(train_img, train_lbl)\n",
    "finish_time = time.time()\n",
    "\n",
    "# Predict for Ten Observations (images)\n",
    "predictions = logisticRegr.predict(test_img[0:10])\n",
    "\n",
    "# Measure performance\n",
    "accuracy = logisticRegr.score(test_img, test_lbl)\n",
    "print(\"Accuracy:\", accuracy)\n"
   ],
   "id": "db40eda80d242b2b",
   "outputs": [
    {
     "name": "stdout",
     "output_type": "stream",
     "text": [
      "Accuracy: 0.9191\n"
     ]
    },
    {
     "name": "stderr",
     "output_type": "stream",
     "text": [
      "C:\\Users\\ADMIN\\PycharmProjects\\HelloWorld\\venv\\lib\\site-packages\\sklearn\\linear_model\\_logistic.py:469: ConvergenceWarning: lbfgs failed to converge (status=1):\n",
      "STOP: TOTAL NO. of ITERATIONS REACHED LIMIT.\n",
      "\n",
      "Increase the number of iterations (max_iter) or scale the data as shown in:\n",
      "    https://scikit-learn.org/stable/modules/preprocessing.html\n",
      "Please also refer to the documentation for alternative solver options:\n",
      "    https://scikit-learn.org/stable/modules/linear_model.html#logistic-regression\n",
      "  n_iter_i = _check_optimize_result(\n"
     ]
    }
   ],
   "execution_count": 10
  },
  {
   "cell_type": "code",
   "source": [
    "run_time = finish_time - start_time\n",
    "run_time"
   ],
   "metadata": {
    "collapsed": false,
    "ExecuteTime": {
     "end_time": "2024-05-06T11:58:51.107798Z",
     "start_time": "2024-05-06T11:58:51.091797Z"
    }
   },
   "id": "4e00b33897423fa",
   "outputs": [
    {
     "data": {
      "text/plain": [
       "6.11790132522583"
      ]
     },
     "execution_count": 11,
     "metadata": {},
     "output_type": "execute_result"
    }
   ],
   "execution_count": 11
  }
 ],
 "metadata": {
  "kernelspec": {
   "display_name": "Python 3",
   "language": "python",
   "name": "python3"
  },
  "language_info": {
   "codemirror_mode": {
    "name": "ipython",
    "version": 2
   },
   "file_extension": ".py",
   "mimetype": "text/x-python",
   "name": "python",
   "nbconvert_exporter": "python",
   "pygments_lexer": "ipython2",
   "version": "2.7.6"
  }
 },
 "nbformat": 4,
 "nbformat_minor": 5
}
