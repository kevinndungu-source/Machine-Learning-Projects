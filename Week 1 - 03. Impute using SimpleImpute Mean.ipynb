{
 "cells": [
  {
   "cell_type": "code",
   "outputs": [],
   "source": [
    "from sklearn.datasets import fetch_california_housing\n",
    "from sklearn.linear_model import LinearRegression\n",
    "from sklearn.model_selection import StratifiedKFold\n",
    "from sklearn.metrics import mean_squared_error\n",
    "from math import sqrt\n",
    "import random\n",
    "import numpy as np\n",
    "random.seed(0)\n",
    "\n",
    "# FETCHING THE DATASET.\n",
    "import pandas as pd\n",
    "dataset = fetch_california_housing()\n",
    "train, target = pd.DataFrame(dataset.data), pd.DataFrame(dataset.target)\n",
    "train.columns = ['zero','one','two','three','four','five','six','seven']\n",
    "train.insert(loc=len(train.columns), column='target', value=target)\n",
    "\n",
    "# RANDOMLY REPLACE 40% OF THE FIRST COLUMN WITH NaN VALUES.\n",
    "column = train['zero']\n",
    "missing_pct = int(column.size * 0.4)\n",
    "i = [random.choice(range(column.shape[0])) for _ in range(missing_pct)]\n",
    "column[i] = np.NaN\n",
    "train"
   ],
   "metadata": {
    "collapsed": false
   },
   "id": "59c2e057acd31d9f",
   "execution_count": null
  },
  {
   "cell_type": "code",
   "outputs": [],
   "source": [
    "# Impute the values using scikit-learn SimpleImpute Class.\n",
    "from sklearn.impute import SimpleImputer\n",
    "imputer = SimpleImputer(missing_values=np.nan, strategy='most_frequent') #For options other than mean imputation replace 'mean' with 'median','most_frequent', or 'constant'.\n",
    "imputer = imputer.fit(train[['zero']])\n",
    "train['zero'] = imputer.transform(train[['zero']]).ravel()\n",
    "train"
   ],
   "metadata": {
    "collapsed": false
   },
   "id": "d82eb2b64a294208",
   "execution_count": null
  },
  {
   "cell_type": "code",
   "outputs": [],
   "source": [],
   "metadata": {
    "collapsed": false
   },
   "id": "6084dad00fbfa02d"
  }
 ],
 "metadata": {
  "kernelspec": {
   "display_name": "Python 3",
   "language": "python",
   "name": "python3"
  },
  "language_info": {
   "codemirror_mode": {
    "name": "ipython",
    "version": 2
   },
   "file_extension": ".py",
   "mimetype": "text/x-python",
   "name": "python",
   "nbconvert_exporter": "python",
   "pygments_lexer": "ipython2",
   "version": "2.7.6"
  }
 },
 "nbformat": 4,
 "nbformat_minor": 5
}
