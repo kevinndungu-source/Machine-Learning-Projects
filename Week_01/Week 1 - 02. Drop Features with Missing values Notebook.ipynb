{
 "cells": [
  {
   "cell_type": "code",
   "execution_count": null,
   "id": "initial_id",
   "metadata": {
    "collapsed": true
   },
   "outputs": [],
   "source": [
    "from sklearn.datasets import fetch_california_housing\n",
    "from sklearn.linear_model import LinearRegression\n",
    "from sklearn.model_selection import StratifiedKFold\n",
    "from sklearn.metrics import mean_squared_error\n",
    "from math import sqrt\n",
    "import random\n",
    "import numpy as np\n",
    "random.seed(0)\n",
    "\n",
    "# FETCHING THE DATASET.\n",
    "import pandas as pd\n",
    "dataset = fetch_california_housing()\n",
    "train, target = pd.DataFrame(dataset.data), pd.DataFrame(dataset.target)\n",
    "train.columns = ['zero','one','two','three','four','five','six','seven']\n",
    "train.insert(loc=len(train.columns), column='target', value=target)\n",
    "\n",
    "# RANDOMLY REPLACE 40% OF THE FIRST COLUMN WITH NaN VALUES.\n",
    "column = train['zero']\n",
    "missing_pct = int(column.size * 0.4)\n",
    "i = [random.choice(range(column.shape[0])) for _ in range(missing_pct)]\n",
    "column[i] = np.NaN\n",
    "train"
   ]
  },
  {
   "cell_type": "code",
   "execution_count": null,
   "id": "d10ae127ee039e0d",
   "metadata": {
    "collapsed": false
   },
   "outputs": [],
   "source": [
    "train.shape"
   ]
  },
  {
   "cell_type": "code",
   "execution_count": null,
   "id": "962b65c920caf20",
   "metadata": {
    "collapsed": false
   },
   "outputs": [],
   "source": [
    "##################################################################################################\n",
    "# REMOVE OBSERVATIONS THAT HAVE MISSING VALUES (OBSERVATIONS REPRESENTING THE ROWS IN THE DATASET).\n",
    "# THIS ACTION WILL DROP ALL ROWS THAT HAVE ANY MISSING VALUES.\n",
    "##################################################################################################\n",
    "train.dropna(inplace=True)\n",
    "train.shape"
   ]
  },
  {
   "cell_type": "code",
   "execution_count": null,
   "id": "d7d7215b470a8f61",
   "metadata": {
    "collapsed": false
   },
   "outputs": [],
   "source": [
    "train\n"
   ]
  },
  {
   "cell_type": "code",
   "execution_count": null,
   "id": "9a68e4dd2af93509",
   "metadata": {
    "collapsed": false
   },
   "outputs": [],
   "source": []
  }
 ],
 "metadata": {
  "kernelspec": {
   "display_name": "Python 3",
   "language": "python",
   "name": "python3"
  },
  "language_info": {
   "codemirror_mode": {
    "name": "ipython",
    "version": 2
   },
   "file_extension": ".py",
   "mimetype": "text/x-python",
   "name": "python",
   "nbconvert_exporter": "python",
   "pygments_lexer": "ipython2",
   "version": "2.7.6"
  }
 },
 "nbformat": 4,
 "nbformat_minor": 5
}
