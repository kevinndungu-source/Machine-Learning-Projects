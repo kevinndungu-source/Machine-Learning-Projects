{
 "cells": [
  {
   "cell_type": "code",
   "execution_count": null,
   "id": "initial_id",
   "metadata": {
    "collapsed": true
   },
   "outputs": [],
   "source": [
    "from sklearn.datasets import fetch_california_housing\n",
    "#FETCHING THE DATASET\n",
    "import pandas as pd\n",
    "dataset = fetch_california_housing()\n",
    "housing_data = pd.DataFrame(dataset.data)\n",
    "housing_data.head()"
   ]
  },
  {
   "cell_type": "code",
   "outputs": [],
   "source": [
    "#CHECKING THE SHAPE OF THE DATASET.\n",
    "housing_data.shape"
   ],
   "metadata": {
    "collapsed": false
   },
   "id": "db99c3849479de3a",
   "execution_count": null
  },
  {
   "cell_type": "code",
   "outputs": [],
   "source": [],
   "metadata": {
    "collapsed": false
   },
   "id": "e6eabfaacf8b2d13"
  }
 ],
 "metadata": {
  "kernelspec": {
   "display_name": "Python 3",
   "language": "python",
   "name": "python3"
  },
  "language_info": {
   "codemirror_mode": {
    "name": "ipython",
    "version": 2
   },
   "file_extension": ".py",
   "mimetype": "text/x-python",
   "name": "python",
   "nbconvert_exporter": "python",
   "pygments_lexer": "ipython2",
   "version": "2.7.6"
  }
 },
 "nbformat": 4,
 "nbformat_minor": 5
}
