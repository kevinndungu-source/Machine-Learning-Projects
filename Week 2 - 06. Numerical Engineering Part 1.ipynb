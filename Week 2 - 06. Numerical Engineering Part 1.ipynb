{
 "cells": [
  {
   "cell_type": "code",
   "execution_count": 1,
   "id": "initial_id",
   "metadata": {
    "ExecuteTime": {
     "end_time": "2024-05-04T21:49:20.095965Z",
     "start_time": "2024-05-04T21:49:19.922966Z"
    },
    "collapsed": true
   },
   "outputs": [
    {
     "name": "stdout",
     "output_type": "stream",
     "text": [
      "\u001b[91m\u001b[95m\n",
      "Data before normalization\u001b[0m\n",
      "   Column1  Column2  Column3  Column4\n",
      "0   999999        2        0        9\n",
      "1       35        8        4        7\n",
      "2       27       23        1       99\n",
      "\u001b[91m\u001b[95m\n",
      "Data after normalization\u001b[0m\n",
      "    Column1   Column2   Column3   Column4\n",
      "0  1.000000  0.000002  0.000000  0.000009\n",
      "1  0.951171  0.217411  0.108705  0.190234\n",
      "2  0.256736  0.218701  0.009509  0.941364\n"
     ]
    }
   ],
   "source": [
    "# Class to colorize, bold, or underline outpu\n",
    "class color:\n",
    "    PURPLE = '\\033[95m'\n",
    "    CYAN = '\\033[96m'\n",
    "    DARKCYAN = '\\033[36m'\n",
    "    BLUE = '\\033[94m'\n",
    "    GREEN = '\\033[92m'\n",
    "    YELLOW = '\\033[93m'\n",
    "    RED = '\\033[91m'\n",
    "    BOLD = '\\033[91m'\n",
    "    UNDERLINE = '\\033[4m'\n",
    "    END = '\\033[0m'\n",
    "    \n",
    "#\n",
    "import pandas as pd\n",
    "import numpy as np\n",
    "\n",
    "# Normalization: rescales the values into a range of [0, 1]\n",
    "data = np.array([[999999, 2, 0, 9],[35, 8, 4, 7], [27, 23, 1, 99]])\n",
    "data_raw = pd.DataFrame({'Column1': data[:, 0], 'Column2': data[:, 1], 'Column3': data[:, 2], 'Column4': data[:, 3]})\n",
    "print(color.BOLD + color.PURPLE + \"\\nData before normalization\" + color.END)\n",
    "print(data_raw)\n",
    "from sklearn import preprocessing\n",
    "\n",
    "# Normalize the data attributes.\n",
    "normalized_data = preprocessing.normalize(data)\n",
    "dataset = pd.DataFrame({'Column1': normalized_data[:, 0], 'Column2': normalized_data[:, 1], 'Column3': normalized_data[:, 2], 'Column4': normalized_data[:, 3]})\n",
    "print(color.BOLD + color.PURPLE + \"\\nData after normalization\" + color.END)\n",
    "print(dataset)\n",
    "    \n",
    "    "
   ]
  },
  {
   "cell_type": "code",
   "execution_count": 2,
   "id": "f145d101cca7e8ac",
   "metadata": {
    "ExecuteTime": {
     "end_time": "2024-05-04T21:49:20.127969Z",
     "start_time": "2024-05-04T21:49:20.097967Z"
    },
    "collapsed": false
   },
   "outputs": [
    {
     "name": "stdout",
     "output_type": "stream",
     "text": [
      "\u001b[91m\u001b[95m\n",
      "Data before standardization\u001b[0m\n",
      "   Column1  Column2  Column3  Column4\n",
      "0   999999        2        0        9\n",
      "1       35        8        4        7\n",
      "2       27       23        1       99\n",
      "\u001b[91m\u001b[95m\n",
      "Data after standardization\u001b[0m\n",
      "    Column1   Column2   Column3   Column4\n",
      "0  1.414214 -1.019049 -0.980581 -0.683672\n",
      "1 -0.707098 -0.339683  1.372813 -0.730286\n",
      "2 -0.707115  1.358732 -0.392232  1.413957\n"
     ]
    }
   ],
   "source": [
    "# Standardization: rescales data to have a mean of 0 and a standard deviation of 1 (unit variance).\n",
    "from sklearn.preprocessing import StandardScaler\n",
    "data = np.array([[999999, 2, 0, 9],[35, 8, 4, 7], [27, 23, 1, 99]])\n",
    "data_raw = pd.DataFrame({'Column1': data[:, 0], 'Column2': data[:, 1], 'Column3': data[:, 2], 'Column4': data[:, 3]})\n",
    "print(color.BOLD + color.PURPLE + \"\\nData before standardization\" + color.END)\n",
    "print(data_raw)\n",
    "standardization_data = StandardScaler().fit_transform(data_raw)\n",
    "dataset = pd.DataFrame({'Column1': standardization_data[:, 0], 'Column2': standardization_data[:, 1], 'Column3': standardization_data[:, 2], 'Column4': standardization_data[:, 3]})\n",
    "print(color.BOLD + color.PURPLE + \"\\nData after standardization\" + color.END)\n",
    "print(dataset)"
   ]
  },
  {
   "cell_type": "code",
   "execution_count": 3,
   "id": "d03233d02e50b7ce",
   "metadata": {
    "ExecuteTime": {
     "end_time": "2024-05-04T21:49:20.158969Z",
     "start_time": "2024-05-04T21:49:20.131968Z"
    },
    "collapsed": false
   },
   "outputs": [
    {
     "name": "stdout",
     "output_type": "stream",
     "text": [
      "\u001b[91m\u001b[95m\n",
      "Country by region\u001b[0m\n"
     ]
    },
    {
     "data": {
      "text/html": [
       "<div>\n",
       "<style scoped>\n",
       "    .dataframe tbody tr th:only-of-type {\n",
       "        vertical-align: middle;\n",
       "    }\n",
       "\n",
       "    .dataframe tbody tr th {\n",
       "        vertical-align: top;\n",
       "    }\n",
       "\n",
       "    .dataframe thead th {\n",
       "        text-align: right;\n",
       "    }\n",
       "</style>\n",
       "<table border=\"1\" class=\"dataframe\">\n",
       "  <thead>\n",
       "    <tr style=\"text-align: right;\">\n",
       "      <th></th>\n",
       "      <th>Countries</th>\n",
       "      <th>Grouped Countries</th>\n",
       "    </tr>\n",
       "  </thead>\n",
       "  <tbody>\n",
       "    <tr>\n",
       "      <th>0</th>\n",
       "      <td>United States</td>\n",
       "      <td>North America</td>\n",
       "    </tr>\n",
       "    <tr>\n",
       "      <th>1</th>\n",
       "      <td>Canada</td>\n",
       "      <td>North America</td>\n",
       "    </tr>\n",
       "    <tr>\n",
       "      <th>2</th>\n",
       "      <td>Spain</td>\n",
       "      <td>Europe</td>\n",
       "    </tr>\n",
       "    <tr>\n",
       "      <th>3</th>\n",
       "      <td>Italy</td>\n",
       "      <td>Europe</td>\n",
       "    </tr>\n",
       "    <tr>\n",
       "      <th>4</th>\n",
       "      <td>Chile</td>\n",
       "      <td>South America</td>\n",
       "    </tr>\n",
       "    <tr>\n",
       "      <th>5</th>\n",
       "      <td>Brazil</td>\n",
       "      <td>South America</td>\n",
       "    </tr>\n",
       "    <tr>\n",
       "      <th>6</th>\n",
       "      <td>North Korea</td>\n",
       "      <td>Asia</td>\n",
       "    </tr>\n",
       "    <tr>\n",
       "      <th>7</th>\n",
       "      <td>Vietnam</td>\n",
       "      <td>Asia</td>\n",
       "    </tr>\n",
       "    <tr>\n",
       "      <th>8</th>\n",
       "      <td>Thailand</td>\n",
       "      <td>Asia</td>\n",
       "    </tr>\n",
       "    <tr>\n",
       "      <th>9</th>\n",
       "      <td>Malaysia</td>\n",
       "      <td>Asia</td>\n",
       "    </tr>\n",
       "    <tr>\n",
       "      <th>10</th>\n",
       "      <td>Mayanmar</td>\n",
       "      <td>Asia</td>\n",
       "    </tr>\n",
       "    <tr>\n",
       "      <th>11</th>\n",
       "      <td>Iceland</td>\n",
       "      <td>North America</td>\n",
       "    </tr>\n",
       "    <tr>\n",
       "      <th>12</th>\n",
       "      <td>Germany</td>\n",
       "      <td>Europe</td>\n",
       "    </tr>\n",
       "    <tr>\n",
       "      <th>13</th>\n",
       "      <td>Cuba</td>\n",
       "      <td>other</td>\n",
       "    </tr>\n",
       "    <tr>\n",
       "      <th>14</th>\n",
       "      <td>Mexico</td>\n",
       "      <td>North America</td>\n",
       "    </tr>\n",
       "  </tbody>\n",
       "</table>\n",
       "</div>"
      ],
      "text/plain": [
       "        Countries Grouped Countries\n",
       "0   United States     North America\n",
       "1          Canada     North America\n",
       "2           Spain            Europe\n",
       "3           Italy            Europe\n",
       "4           Chile     South America\n",
       "5          Brazil     South America\n",
       "6     North Korea              Asia\n",
       "7         Vietnam              Asia\n",
       "8        Thailand              Asia\n",
       "9        Malaysia              Asia\n",
       "10       Mayanmar              Asia\n",
       "11        Iceland     North America\n",
       "12        Germany            Europe\n",
       "13           Cuba             other\n",
       "14         Mexico     North America"
      ]
     },
     "execution_count": 3,
     "metadata": {},
     "output_type": "execute_result"
    }
   ],
   "source": [
    "# Categorical Binning Example\n",
    "countries = pd.Series([\n",
    "        'United States',\n",
    "        'Canada',\n",
    "        'Spain',\n",
    "        'Italy',\n",
    "        'Chile',\n",
    "        'Brazil',\n",
    "        'North Korea',\n",
    "        'Vietnam',\n",
    "        'Thailand',\n",
    "        'Malaysia',\n",
    "        'Mayanmar',\n",
    "        'Iceland',\n",
    "        'Germany',\n",
    "        'Cuba',\n",
    "        'Mexico'\n",
    "    ], name = \"Countries\")\n",
    "\n",
    "groups = {\n",
    "        'North America': ('United States', 'Canada', 'Iceland', 'Greenland', 'Mexico'), \n",
    "        'Europe': ('France', 'Germany', 'United Kingdom', 'Belgium', 'Spain', 'Italy', 'Poland'), \n",
    "        'South America': ('Chile', 'Brazil', 'Peru', 'Colombia', 'Ecuador'),\n",
    "        'Asia': ('North Korea', 'Vietnam', 'Thailand', 'Malaysia', 'Mayanmar')\n",
    "    }\n",
    "from typing import Any\n",
    "\n",
    "def country_group_map(series: pd.Series, groups: dict,\n",
    "                      othervalue: Any=-1) -> pd.Series:\n",
    "    # Assign the dictionary pairs\n",
    "    groups = {z: j for j, r in groups.items() for z in r}\n",
    "    return series.map(groups).fillna(othervalue)\n",
    "\n",
    "grouped_countries = country_group_map(countries, groups, othervalue='other')\n",
    "df = pd.concat([countries.rename('Countries'), grouped_countries.rename('Grouped Countries')], axis=1)\n",
    "print(color.BOLD + color.PURPLE + \"\\nCountry by region\" + color.END)\n",
    "df"
   ]
  },
  {
   "cell_type": "code",
   "execution_count": 4,
   "id": "1530dae430fa614b",
   "metadata": {
    "ExecuteTime": {
     "end_time": "2024-05-04T21:49:20.473968Z",
     "start_time": "2024-05-04T21:49:20.160966Z"
    },
    "collapsed": false
   },
   "outputs": [
    {
     "data": {
      "image/png": "[encoded data removed]",
      "text/plain": [
       "<Figure size 640x480 with 1 Axes>"
      ]
     },
     "metadata": {},
     "output_type": "display_data"
    }
   ],
   "source": [
    "import matplotlib.pyplot as plt\n",
    "\n",
    "# Grouping by 'Grouped Countries' and counting occurrences\n",
    "data = df.groupby('Grouped Countries').count()\n",
    "\n",
    "# Plotting the count of countries in each region\n",
    "plt.bar(data.index, data['Countries'])\n",
    "plt.xlabel('Region')\n",
    "plt.ylabel('Count of Countries')\n",
    "plt.title('Count of Countries in Each Region')\n",
    "plt.xticks(rotation=45)\n",
    "plt.show()\n"
   ]
  },
  {
   "cell_type": "code",
   "execution_count": 5,
   "id": "4b425fe98c2ea99f",
   "metadata": {
    "ExecuteTime": {
     "end_time": "2024-05-04T21:49:24.370973Z",
     "start_time": "2024-05-04T21:49:20.475968Z"
    },
    "collapsed": false
   },
   "outputs": [
    {
     "name": "stdout",
     "output_type": "stream",
     "text": [
      "\u001b[91m\u001b[95m\n",
      "Number of observations: 1507\u001b[0m\n"
     ]
    },
    {
     "data": {
      "text/html": [
       "<div>\n",
       "<style scoped>\n",
       "    .dataframe tbody tr th:only-of-type {\n",
       "        vertical-align: middle;\n",
       "    }\n",
       "\n",
       "    .dataframe tbody tr th {\n",
       "        vertical-align: top;\n",
       "    }\n",
       "\n",
       "    .dataframe thead th {\n",
       "        text-align: right;\n",
       "    }\n",
       "</style>\n",
       "<table border=\"1\" class=\"dataframe\">\n",
       "  <thead>\n",
       "    <tr style=\"text-align: right;\">\n",
       "      <th></th>\n",
       "      <th>reference number</th>\n",
       "      <th>name</th>\n",
       "      <th>price</th>\n",
       "      <th>date</th>\n",
       "    </tr>\n",
       "  </thead>\n",
       "  <tbody>\n",
       "    <tr>\n",
       "      <th>0</th>\n",
       "      <td>740150</td>\n",
       "      <td>Thomas LLC</td>\n",
       "      <td>3380.91</td>\n",
       "      <td>2018-01-01 07:21:51</td>\n",
       "    </tr>\n",
       "    <tr>\n",
       "      <th>1</th>\n",
       "      <td>714466</td>\n",
       "      <td>Sillians-Krapfs</td>\n",
       "      <td>-63.16</td>\n",
       "      <td>2018-01-01 10:00:47</td>\n",
       "    </tr>\n",
       "    <tr>\n",
       "      <th>2</th>\n",
       "      <td>218895</td>\n",
       "      <td>Snodgrass Inc</td>\n",
       "      <td>2086.10</td>\n",
       "      <td>2018-01-01 13:24:58</td>\n",
       "    </tr>\n",
       "    <tr>\n",
       "      <th>3</th>\n",
       "      <td>307599</td>\n",
       "      <td>Craut, Oniote and Johnson</td>\n",
       "      <td>863.05</td>\n",
       "      <td>2018-01-01 15:05:22</td>\n",
       "    </tr>\n",
       "    <tr>\n",
       "      <th>4</th>\n",
       "      <td>412290</td>\n",
       "      <td>Judais-Pewrters</td>\n",
       "      <td>499.26</td>\n",
       "      <td>2018-01-01 23:26:55</td>\n",
       "    </tr>\n",
       "    <tr>\n",
       "      <th>...</th>\n",
       "      <td>...</td>\n",
       "      <td>...</td>\n",
       "      <td>...</td>\n",
       "      <td>...</td>\n",
       "    </tr>\n",
       "    <tr>\n",
       "      <th>1502</th>\n",
       "      <td>424914</td>\n",
       "      <td>Green-Brown</td>\n",
       "      <td>1582.49</td>\n",
       "      <td>2018-11-27 14:29:02</td>\n",
       "    </tr>\n",
       "    <tr>\n",
       "      <th>1503</th>\n",
       "      <td>424914</td>\n",
       "      <td>Green-Brown</td>\n",
       "      <td>1049.28</td>\n",
       "      <td>2018-12-19 15:15:41</td>\n",
       "    </tr>\n",
       "    <tr>\n",
       "      <th>1504</th>\n",
       "      <td>424914</td>\n",
       "      <td>Green-Brown</td>\n",
       "      <td>2166.75</td>\n",
       "      <td>2018-12-29 13:03:54</td>\n",
       "    </tr>\n",
       "    <tr>\n",
       "      <th>1505</th>\n",
       "      <td>424914</td>\n",
       "      <td>Green-Brown</td>\n",
       "      <td>1915.00</td>\n",
       "      <td>2018-12-22 03:31:36</td>\n",
       "    </tr>\n",
       "    <tr>\n",
       "      <th>1506</th>\n",
       "      <td>424914</td>\n",
       "      <td>Green-Brown</td>\n",
       "      <td>8819.00</td>\n",
       "      <td>2018-12-16 00:46:26</td>\n",
       "    </tr>\n",
       "  </tbody>\n",
       "</table>\n",
       "<p>1507 rows × 4 columns</p>\n",
       "</div>"
      ],
      "text/plain": [
       "      reference number                       name    price                date\n",
       "0               740150                 Thomas LLC  3380.91 2018-01-01 07:21:51\n",
       "1               714466            Sillians-Krapfs   -63.16 2018-01-01 10:00:47\n",
       "2               218895              Snodgrass Inc  2086.10 2018-01-01 13:24:58\n",
       "3               307599  Craut, Oniote and Johnson   863.05 2018-01-01 15:05:22\n",
       "4               412290            Judais-Pewrters   499.26 2018-01-01 23:26:55\n",
       "...                ...                        ...      ...                 ...\n",
       "1502            424914                Green-Brown  1582.49 2018-11-27 14:29:02\n",
       "1503            424914                Green-Brown  1049.28 2018-12-19 15:15:41\n",
       "1504            424914                Green-Brown  2166.75 2018-12-29 13:03:54\n",
       "1505            424914                Green-Brown  1915.00 2018-12-22 03:31:36\n",
       "1506            424914                Green-Brown  8819.00 2018-12-16 00:46:26\n",
       "\n",
       "[1507 rows x 4 columns]"
      ]
     },
     "execution_count": 5,
     "metadata": {},
     "output_type": "execute_result"
    }
   ],
   "source": [
    "import pandas as pd\n",
    "import numpy as np\n",
    "import seaborn as sns\n",
    "\n",
    "# Numerical Binning Example\n",
    "revenue_df = pd.read_excel('https://github.com/vbloise3/WhizLabsML/blob/master/binning/201_Revenue_Total.xlsx?raw=true')\n",
    "print(color.BOLD + color.PURPLE + \"\\nNumber of observations: \" + str(len(revenue_df.index)) + color.END)\n",
    "revenue_df"
   ]
  },
  {
   "cell_type": "code",
   "execution_count": 6,
   "id": "37a864ef0019bcbf",
   "metadata": {
    "ExecuteTime": {
     "end_time": "2024-05-04T21:49:24.656968Z",
     "start_time": "2024-05-04T21:49:24.372968Z"
    }
   },
   "outputs": [
    {
     "data": {
      "text/plain": [
       "<Axes: ylabel='Frequency'>"
      ]
     },
     "execution_count": 6,
     "metadata": {},
     "output_type": "execute_result"
    },
    {
     "data": {
      "image/png": "[encoded data removed]",
      "text/plain": [
       "<Figure size 640x480 with 1 Axes>"
      ]
     },
     "metadata": {},
     "output_type": "display_data"
    }
   ],
   "source": [
    "# Bin continuous datas by using a simple histogram.\n",
    "sns.set_style('whitegrid')\n",
    "df = revenue_df.groupby(['reference number', 'name'])['price'].sum().reset_index()\n",
    "df['price'].plot(kind='hist')"
   ]
  },
  {
   "cell_type": "code",
   "execution_count": 7,
   "id": "d796a3ad84bdffea",
   "metadata": {
    "ExecuteTime": {
     "end_time": "2024-05-04T21:49:24.687967Z",
     "start_time": "2024-05-04T21:49:24.657969Z"
    }
   },
   "outputs": [
    {
     "name": "stdout",
     "output_type": "stream",
     "text": [
      "\u001b[91m\u001b[95m\n",
      "qcut: a quantile-based discretization function that divides up the data into a range of quantiles.\u001b[0m\n",
      "count        20.000000\n",
      "mean     101711.287500\n",
      "std       27037.449673\n",
      "min       55733.050000\n",
      "25%       89137.707500\n",
      "50%      100271.535000\n",
      "75%      110132.552500\n",
      "max      184793.700000\n",
      "Name: price, dtype: float64\n",
      "\u001b[91m\u001b[95m\n",
      "Three examples: quartiles, deciles, quintiles\u001b[0m\n"
     ]
    },
    {
     "data": {
      "text/html": [
       "<div>\n",
       "<style scoped>\n",
       "    .dataframe tbody tr th:only-of-type {\n",
       "        vertical-align: middle;\n",
       "    }\n",
       "\n",
       "    .dataframe tbody tr th {\n",
       "        vertical-align: top;\n",
       "    }\n",
       "\n",
       "    .dataframe thead th {\n",
       "        text-align: right;\n",
       "    }\n",
       "</style>\n",
       "<table border=\"1\" class=\"dataframe\">\n",
       "  <thead>\n",
       "    <tr style=\"text-align: right;\">\n",
       "      <th></th>\n",
       "      <th>reference number</th>\n",
       "      <th>name</th>\n",
       "      <th>price</th>\n",
       "      <th>quantile_price_quartiles</th>\n",
       "      <th>quantile_price_deciles</th>\n",
       "    </tr>\n",
       "  </thead>\n",
       "  <tbody>\n",
       "    <tr>\n",
       "      <th>0</th>\n",
       "      <td>141962</td>\n",
       "      <td>Speilmans LLC</td>\n",
       "      <td>63626.03</td>\n",
       "      <td>Rookie</td>\n",
       "      <td>(55732.0, 76471.0]</td>\n",
       "    </tr>\n",
       "    <tr>\n",
       "      <th>1</th>\n",
       "      <td>146832</td>\n",
       "      <td>Jones-Spank</td>\n",
       "      <td>99608.77</td>\n",
       "      <td>Junior</td>\n",
       "      <td>(95908.0, 100272.0]</td>\n",
       "    </tr>\n",
       "    <tr>\n",
       "      <th>2</th>\n",
       "      <td>163416</td>\n",
       "      <td>Muns-Kalifan</td>\n",
       "      <td>77898.21</td>\n",
       "      <td>Rookie</td>\n",
       "      <td>(76471.0, 87168.0]</td>\n",
       "    </tr>\n",
       "    <tr>\n",
       "      <th>3</th>\n",
       "      <td>218895</td>\n",
       "      <td>Snodgrass Inc</td>\n",
       "      <td>137351.96</td>\n",
       "      <td>Professional</td>\n",
       "      <td>(124778.0, 184794.0]</td>\n",
       "    </tr>\n",
       "    <tr>\n",
       "      <th>4</th>\n",
       "      <td>239344</td>\n",
       "      <td>Finley LLC</td>\n",
       "      <td>91535.92</td>\n",
       "      <td>Sophomore</td>\n",
       "      <td>(90686.0, 95908.0]</td>\n",
       "    </tr>\n",
       "  </tbody>\n",
       "</table>\n",
       "</div>"
      ],
      "text/plain": [
       "   reference number           name      price quantile_price_quartiles  \\\n",
       "0            141962  Speilmans LLC   63626.03                   Rookie   \n",
       "1            146832    Jones-Spank   99608.77                   Junior   \n",
       "2            163416   Muns-Kalifan   77898.21                   Rookie   \n",
       "3            218895  Snodgrass Inc  137351.96             Professional   \n",
       "4            239344     Finley LLC   91535.92                Sophomore   \n",
       "\n",
       "  quantile_price_deciles  \n",
       "0     (55732.0, 76471.0]  \n",
       "1    (95908.0, 100272.0]  \n",
       "2     (76471.0, 87168.0]  \n",
       "3   (124778.0, 184794.0]  \n",
       "4     (90686.0, 95908.0]  "
      ]
     },
     "execution_count": 7,
     "metadata": {},
     "output_type": "execute_result"
    }
   ],
   "source": [
    "# Quantile binning example\n",
    "print(color.BOLD + color.PURPLE + \"\\nqcut: a quantile-based discretization function that divides up the data into a range of quantiles.\" + color.END)\n",
    "print(df['price'].describe())\n",
    "df['quantile_price_quartiles'] = pd.qcut(df['price'], q=4)\n",
    "df['quantile_price_deciles'] = pd.qcut(df['price'], q=10, precision=0)\n",
    "bin_labels_5 = ['Rookie', 'Sophomore', 'Junior', 'Senior', 'Professional']\n",
    "df['quantile_price_quartiles'] = pd.qcut(df['price'],\n",
    "                                         q=[0, .2, .4, .6, .8, 1],\n",
    "                                         labels=bin_labels_5)\n",
    "print(color.BOLD + color.PURPLE + \"\\nThree examples: quartiles, deciles, quintiles\" + color.END)\n",
    "df.head()"
   ]
  },
  {
   "cell_type": "code",
   "execution_count": 8,
   "id": "e3b6de788a87c350",
   "metadata": {
    "ExecuteTime": {
     "end_time": "2024-05-04T21:49:24.719965Z",
     "start_time": "2024-05-04T21:49:24.689967Z"
    }
   },
   "outputs": [
    {
     "name": "stdout",
     "output_type": "stream",
     "text": [
      "\u001b[91m\u001b[95m\n",
      "What ranges identify the bins?\u001b[0m\n",
      "    Threshold          Tier\n",
      "0   55733.050        Rookie\n",
      "1   87167.958     Sophomore\n",
      "2   95908.156        Junior\n",
      "3  103605.970        Senior\n",
      "4  112290.054  Professional\n",
      "\u001b[91m\u001b[95m\n",
      "Bin are of unequal size ... \u001b[0m\n"
     ]
    }
   ],
   "source": [
    "# Check the bin ranges \n",
    "print(color.BOLD + color.PURPLE + \"\\nWhat ranges identify the bins?\" + color.END)\n",
    "results, bin_edges = pd.qcut(df['price'],\n",
    "                             q=[0, .2, .4, .6, .8, 1],\n",
    "                             labels=bin_labels_5,\n",
    "                             retbins=True)\n",
    "\n",
    "results_table = pd.DataFrame(zip(bin_edges, bin_labels_5),\n",
    "                             columns=['Threshold', 'Tier'])\n",
    "print(results_table)\n",
    "print(color.BOLD + color.PURPLE + \"\\nBin are of unequal size ... \" + color.END)"
   ]
  },
  {
   "cell_type": "code",
   "execution_count": 9,
   "id": "284e3b2166f1edcb",
   "metadata": {
    "ExecuteTime": {
     "end_time": "2024-05-04T21:49:24.735967Z",
     "start_time": "2024-05-04T21:49:24.721966Z"
    }
   },
   "outputs": [
    {
     "name": "stdout",
     "output_type": "stream",
     "text": [
      "\u001b[91m\u001b[95m\n",
      "Bin distribution\u001b[0m\n",
      "Rookie          4\n",
      "Sophomore       4\n",
      "Junior          4\n",
      "Senior          4\n",
      "Professional    4\n",
      "Name: quantile_price_quartiles, dtype: int64\n",
      "\u001b[91m\u001b[95m\n",
      "... but the data is evenly distributed across the bins\u001b[0m\n"
     ]
    }
   ],
   "source": [
    "# Check the bin distribution\n",
    "print(color.BOLD + color.PURPLE + \"\\nBin distribution\" + color.END)\n",
    "print(df['quantile_price_quartiles'].value_counts())\n",
    "print(color.BOLD + color.PURPLE + \"\\n... but the data is evenly distributed across the bins\" + color.END)"
   ]
  },
  {
   "cell_type": "code",
   "execution_count": 13,
   "id": "316accb63cda851d",
   "metadata": {
    "ExecuteTime": {
     "end_time": "2024-05-04T21:56:42.452607Z",
     "start_time": "2024-05-04T21:56:42.437580Z"
    }
   },
   "outputs": [
    {
     "name": "stdout",
     "output_type": "stream",
     "text": [
      "\n",
      "After using cut to create 4 bins:\n",
      "(87998.212, 120263.375]     12\n",
      "(55603.989, 87998.212]       5\n",
      "(120263.375, 152528.538]     2\n",
      "(152528.538, 184793.7]       1\n",
      "Name: price_bins, dtype: int64\n",
      "\n",
      "Bins are of equal size, but the data is unevenly distributed across the bins\n"
     ]
    }
   ],
   "source": [
    "import pandas as pd\n",
    "\n",
    "# Check if the column exists before dropping it\n",
    "columns_to_drop = ['quantile_price_quartiles', 'quantile_price_deciles', 'quantile_price_quintiles']\n",
    "columns_to_drop = [col for col in columns_to_drop if col in df.columns]\n",
    "df = df.drop(columns=columns_to_drop)\n",
    "\n",
    "# Use cut to split the data into 4 equal bin sizes and assign the result to a new column\n",
    "df['price_bins'] = pd.cut(df['price'], bins=4)\n",
    "\n",
    "# How was the data distributed?\n",
    "print(\"\\nAfter using cut to create 4 bins:\")\n",
    "print(df['price_bins'].value_counts())\n",
    "print(\"\\nBins are of equal size, but the data is unevenly distributed across the bins\")\n"
   ]
  },
  {
   "cell_type": "code",
   "execution_count": null,
   "id": "4e93d84ffd352d09",
   "metadata": {},
   "outputs": [],
   "source": []
  }
 ],
 "metadata": {
  "kernelspec": {
   "display_name": "Python 3",
   "language": "python",
   "name": "python3"
  },
  "language_info": {
   "codemirror_mode": {
    "name": "ipython",
    "version": 2
   },
   "file_extension": ".py",
   "mimetype": "text/x-python",
   "name": "python",
   "nbconvert_exporter": "python",
   "pygments_lexer": "ipython2",
   "version": "2.7.6"
  }
 },
 "nbformat": 4,
 "nbformat_minor": 5
}
