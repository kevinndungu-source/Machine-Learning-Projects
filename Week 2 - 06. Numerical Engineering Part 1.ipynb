{
 "cells": [
  {
   "cell_type": "code",
   "execution_count": 1,
   "id": "initial_id",
   "metadata": {
    "ExecuteTime": {
     "end_time": "2024-04-15T15:20:22.961048900Z",
     "start_time": "2024-04-15T15:20:20.590313200Z"
    },
    "collapsed": true
   },
   "outputs": [
    {
     "name": "stdout",
     "output_type": "stream",
     "text": [
      "\u001b[91m\u001b[95m\n",
      "Data before normalization\u001b[0m\n",
      "   Column1  Column2  Column3  Column4\n",
      "0   999999        2        0        9\n",
      "1       35        8        4        7\n",
      "2       27       23        1       99\n",
      "\u001b[91m\u001b[95m\n",
      "Data after normalization\u001b[0m\n",
      "    Column1   Column2   Column3   Column4\n",
      "0  1.000000  0.000002  0.000000  0.000009\n",
      "1  0.951171  0.217411  0.108705  0.190234\n",
      "2  0.256736  0.218701  0.009509  0.941364\n"
     ]
    }
   ],
   "source": [
    "# Class to colorize, bold, or underline outpu\n",
    "class color:\n",
    "    PURPLE = '\\033[95m'\n",
    "    CYAN = '\\033[96m'\n",
    "    DARKCYAN = '\\033[36m'\n",
    "    BLUE = '\\033[94m'\n",
    "    GREEN = '\\033[92m'\n",
    "    YELLOW = '\\033[93m'\n",
    "    RED = '\\033[91m'\n",
    "    BOLD = '\\033[91m'\n",
    "    UNDERLINE = '\\033[4m'\n",
    "    END = '\\033[0m'\n",
    "    \n",
    "#\n",
    "import pandas as pd\n",
    "import numpy as np\n",
    "\n",
    "# Normalization: rescales the values into a range of [0, 1]\n",
    "data = np.array([[999999, 2, 0, 9],[35, 8, 4, 7], [27, 23, 1, 99]])\n",
    "data_raw = pd.DataFrame({'Column1': data[:, 0], 'Column2': data[:, 1], 'Column3': data[:, 2], 'Column4': data[:, 3]})\n",
    "print(color.BOLD + color.PURPLE + \"\\nData before normalization\" + color.END)\n",
    "print(data_raw)\n",
    "from sklearn import preprocessing\n",
    "\n",
    "# Normalize the data attributes.\n",
    "normalized_data = preprocessing.normalize(data)\n",
    "dataset = pd.DataFrame({'Column1': normalized_data[:, 0], 'Column2': normalized_data[:, 1], 'Column3': normalized_data[:, 2], 'Column4': normalized_data[:, 3]})\n",
    "print(color.BOLD + color.PURPLE + \"\\nData after normalization\" + color.END)\n",
    "print(dataset)\n",
    "    \n",
    "    "
   ]
  },
  {
   "cell_type": "code",
   "execution_count": 2,
   "id": "f145d101cca7e8ac",
   "metadata": {
    "ExecuteTime": {
     "end_time": "2024-04-15T15:28:47.647399800Z",
     "start_time": "2024-04-15T15:28:47.636400100Z"
    },
    "collapsed": false
   },
   "outputs": [
    {
     "name": "stdout",
     "output_type": "stream",
     "text": [
      "\u001b[91m\u001b[95m\n",
      "Data before standardization\u001b[0m\n",
      "   Column1  Column2  Column3  Column4\n",
      "0   999999        2        0        9\n",
      "1       35        8        4        7\n",
      "2       27       23        1       99\n",
      "\u001b[91m\u001b[95m\n",
      "Data after standardization\u001b[0m\n",
      "    Column1   Column2   Column3   Column4\n",
      "0  1.414214 -1.019049 -0.980581 -0.683672\n",
      "1 -0.707098 -0.339683  1.372813 -0.730286\n",
      "2 -0.707115  1.358732 -0.392232  1.413957\n"
     ]
    }
   ],
   "source": [
    "# Standardization: rescales data to have a mean of 0 and a standard deviation of 1 (unit variance).\n",
    "from sklearn.preprocessing import StandardScaler\n",
    "data = np.array([[999999, 2, 0, 9],[35, 8, 4, 7], [27, 23, 1, 99]])\n",
    "data_raw = pd.DataFrame({'Column1': data[:, 0], 'Column2': data[:, 1], 'Column3': data[:, 2], 'Column4': data[:, 3]})\n",
    "print(color.BOLD + color.PURPLE + \"\\nData before standardization\" + color.END)\n",
    "print(data_raw)\n",
    "standardization_data = StandardScaler().fit_transform(data_raw)\n",
    "dataset = pd.DataFrame({'Column1': standardization_data[:, 0], 'Column2': standardization_data[:, 1], 'Column3': standardization_data[:, 2], 'Column4': standardization_data[:, 3]})\n",
    "print(color.BOLD + color.PURPLE + \"\\nData after standardization\" + color.END)\n",
    "print(dataset)"
   ]
  },
  {
   "cell_type": "code",
   "execution_count": 7,
   "id": "d03233d02e50b7ce",
   "metadata": {
    "ExecuteTime": {
     "end_time": "2024-04-15T17:56:39.257388400Z",
     "start_time": "2024-04-15T17:56:39.229362600Z"
    },
    "collapsed": false
   },
   "outputs": [
    {
     "name": "stdout",
     "output_type": "stream",
     "text": [
      "\u001b[91m\u001b[95m\n",
      "Country by region\u001b[0m\n"
     ]
    },
    {
     "data": {
      "text/html": [
       "<div>\n",
       "<style scoped>\n",
       "    .dataframe tbody tr th:only-of-type {\n",
       "        vertical-align: middle;\n",
       "    }\n",
       "\n",
       "    .dataframe tbody tr th {\n",
       "        vertical-align: top;\n",
       "    }\n",
       "\n",
       "    .dataframe thead th {\n",
       "        text-align: right;\n",
       "    }\n",
       "</style>\n",
       "<table border=\"1\" class=\"dataframe\">\n",
       "  <thead>\n",
       "    <tr style=\"text-align: right;\">\n",
       "      <th></th>\n",
       "      <th>Countries</th>\n",
       "      <th>Grouped Countries</th>\n",
       "    </tr>\n",
       "  </thead>\n",
       "  <tbody>\n",
       "    <tr>\n",
       "      <th>0</th>\n",
       "      <td>United States</td>\n",
       "      <td>North America</td>\n",
       "    </tr>\n",
       "    <tr>\n",
       "      <th>1</th>\n",
       "      <td>Canada</td>\n",
       "      <td>North America</td>\n",
       "    </tr>\n",
       "    <tr>\n",
       "      <th>2</th>\n",
       "      <td>Spain</td>\n",
       "      <td>Europe</td>\n",
       "    </tr>\n",
       "    <tr>\n",
       "      <th>3</th>\n",
       "      <td>Italy</td>\n",
       "      <td>Europe</td>\n",
       "    </tr>\n",
       "    <tr>\n",
       "      <th>4</th>\n",
       "      <td>Chile</td>\n",
       "      <td>South America</td>\n",
       "    </tr>\n",
       "    <tr>\n",
       "      <th>5</th>\n",
       "      <td>Brazil</td>\n",
       "      <td>South America</td>\n",
       "    </tr>\n",
       "    <tr>\n",
       "      <th>6</th>\n",
       "      <td>North Korea</td>\n",
       "      <td>Asia</td>\n",
       "    </tr>\n",
       "    <tr>\n",
       "      <th>7</th>\n",
       "      <td>Vietnam</td>\n",
       "      <td>Asia</td>\n",
       "    </tr>\n",
       "    <tr>\n",
       "      <th>8</th>\n",
       "      <td>Thailand</td>\n",
       "      <td>Asia</td>\n",
       "    </tr>\n",
       "    <tr>\n",
       "      <th>9</th>\n",
       "      <td>Malaysia</td>\n",
       "      <td>Asia</td>\n",
       "    </tr>\n",
       "    <tr>\n",
       "      <th>10</th>\n",
       "      <td>Mayanmar</td>\n",
       "      <td>Asia</td>\n",
       "    </tr>\n",
       "    <tr>\n",
       "      <th>11</th>\n",
       "      <td>Iceland</td>\n",
       "      <td>North America</td>\n",
       "    </tr>\n",
       "    <tr>\n",
       "      <th>12</th>\n",
       "      <td>Germany</td>\n",
       "      <td>Europe</td>\n",
       "    </tr>\n",
       "    <tr>\n",
       "      <th>13</th>\n",
       "      <td>Cuba</td>\n",
       "      <td>other</td>\n",
       "    </tr>\n",
       "    <tr>\n",
       "      <th>14</th>\n",
       "      <td>Mexico</td>\n",
       "      <td>North America</td>\n",
       "    </tr>\n",
       "  </tbody>\n",
       "</table>\n",
       "</div>"
      ],
      "text/plain": [
       "        Countries Grouped Countries\n",
       "0   United States     North America\n",
       "1          Canada     North America\n",
       "2           Spain            Europe\n",
       "3           Italy            Europe\n",
       "4           Chile     South America\n",
       "5          Brazil     South America\n",
       "6     North Korea              Asia\n",
       "7         Vietnam              Asia\n",
       "8        Thailand              Asia\n",
       "9        Malaysia              Asia\n",
       "10       Mayanmar              Asia\n",
       "11        Iceland     North America\n",
       "12        Germany            Europe\n",
       "13           Cuba             other\n",
       "14         Mexico     North America"
      ]
     },
     "execution_count": 7,
     "metadata": {},
     "output_type": "execute_result"
    }
   ],
   "source": [
    "# Categorical Binning Example\n",
    "countries = pd.Series([\n",
    "        'United States',\n",
    "        'Canada',\n",
    "        'Spain',\n",
    "        'Italy',\n",
    "        'Chile',\n",
    "        'Brazil',\n",
    "        'North Korea',\n",
    "        'Vietnam',\n",
    "        'Thailand',\n",
    "        'Malaysia',\n",
    "        'Mayanmar',\n",
    "        'Iceland',\n",
    "        'Germany',\n",
    "        'Cuba',\n",
    "        'Mexico'\n",
    "    ], name = \"Countries\")\n",
    "\n",
    "groups = {\n",
    "        'North America': ('United States', 'Canada', 'Iceland', 'Greenland', 'Mexico'), \n",
    "        'Europe': ('France', 'Germany', 'United Kingdom', 'Belgium', 'Spain', 'Italy', 'Poland'), \n",
    "        'South America': ('Chile', 'Brazil', 'Peru', 'Colombia', 'Ecuador'),\n",
    "        'Asia': ('North Korea', 'Vietnam', 'Thailand', 'Malaysia', 'Mayanmar')\n",
    "    }\n",
    "from typing import Any\n",
    "\n",
    "def country_group_map(series: pd.Series, groups: dict,\n",
    "                      othervalue: Any=-1) -> pd.Series:\n",
    "    # Assign the dictionary pairs\n",
    "    groups = {z: j for j, r in groups.items() for z in r}\n",
    "    return series.map(groups).fillna(othervalue)\n",
    "\n",
    "grouped_countries = country_group_map(countries, groups, othervalue='other')\n",
    "df = pd.concat([countries.rename('Countries'), grouped_countries.rename('Grouped Countries')], axis=1)\n",
    "print(color.BOLD + color.PURPLE + \"\\nCountry by region\" + color.END)\n",
    "df"
   ]
  },
  {
   "cell_type": "code",
   "execution_count": 9,
   "id": "1530dae430fa614b",
   "metadata": {
    "ExecuteTime": {
     "end_time": "2024-04-15T18:04:13.288961800Z",
     "start_time": "2024-04-15T18:04:13.146961300Z"
    },
    "collapsed": false
   },
   "outputs": [
    {
     "data": {
      "image/png": "[encoded data removed]",
      "text/plain": [
       "<Figure size 640x480 with 1 Axes>"
      ]
     },
     "metadata": {},
     "output_type": "display_data"
    }
   ],
   "source": [
    "import matplotlib.pyplot as plt\n",
    "\n",
    "# Grouping by 'Grouped Countries' and counting occurrences\n",
    "data = df.groupby('Grouped Countries').count()\n",
    "\n",
    "# Plotting the count of countries in each region\n",
    "plt.bar(data.index, data['Countries'])\n",
    "plt.xlabel('Region')\n",
    "plt.ylabel('Count of Countries')\n",
    "plt.title('Count of Countries in Each Region')\n",
    "plt.xticks(rotation=45)\n",
    "plt.show()\n"
   ]
  },
  {
   "cell_type": "code",
   "execution_count": null,
   "id": "4b425fe98c2ea99f",
   "metadata": {
    "collapsed": false
   },
   "outputs": [],
   "source": []
  }
 ],
 "metadata": {
  "kernelspec": {
   "display_name": "Python 3",
   "language": "python",
   "name": "python3"
  },
  "language_info": {
   "codemirror_mode": {
    "name": "ipython",
    "version": 2
   },
   "file_extension": ".py",
   "mimetype": "text/x-python",
   "name": "python",
   "nbconvert_exporter": "python",
   "pygments_lexer": "ipython2",
   "version": "2.7.6"
  }
 },
 "nbformat": 4,
 "nbformat_minor": 5
}
